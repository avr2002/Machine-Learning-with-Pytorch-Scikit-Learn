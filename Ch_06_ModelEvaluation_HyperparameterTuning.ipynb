{
 "cells": [
  {
   "cell_type": "markdown",
   "id": "f3869ae1-76d7-4044-9525-9764a43e58bb",
   "metadata": {},
   "source": [
    "***Reference:***\n",
    "\n",
    "***Raschka, Sebastian; Liu, Yuxi (Hayden); Mirjalili, Vahid. Machine Learning with PyTorch and Scikit-Learn: Develop machine learning and deep learning models with Python. Packt Publishing.*** "
   ]
  },
  {
   "cell_type": "markdown",
   "id": "1fe34115-0620-4be9-8aeb-9dfbf6157487",
   "metadata": {},
   "source": [
    "# ***<u>Chapter 6</u>***\n",
    "\n",
    "## ***Learning Best Practices for Model Evaluation & Hyperparameter Tuning***"
   ]
  },
  {
   "cell_type": "markdown",
   "id": "c9d1167c-e22a-4aa8-b4bb-49a6cba11996",
   "metadata": {},
   "source": [
    "## Index\n",
    "\n",
    "- [Streamlining workflows with pipelines](#Streamlining-workflows-with-pipelines)\n",
    "- [Combining transformers and estimators in a pipeline](#Combining-transformers-and-estimators-in-a-pipeline)\n",
    "- [Using k-fold Cross Validation to assess model performance](#Using-k---fold-Cross-Validation-to-assess-model-performance)\n",
    "    - [The Holdout Method](#The-Holdout-Method)\n",
    "    - [K-fold cross-validation](#K-fold-cross-validation)\n",
    "        - [Leave-one-out cross-validation](#Leave-one-out-cross-validation)\n",
    "        - [Stratified k-fold CV](#Stratified-k-fold-CV)\n",
    "- [Debugging algorithms with learning curves](#Diagnosing-bias-and-variance-problems-with-Learning-Curves)\n",
    "- [Addressing over- and underfitting with validation curves](#Addressing-over--and-underfitting-with-validation-curves)\n",
    "- [Tuning hyperparameters via Grid Search](#Tuning-hyperparameters-via-Grid-Search)\n",
    "- [Tuning hyperparameters via Randomized Search](#Tuning-hyperparameters-via-Randomized-Search)\n",
    "- [Successive Halving - resource efficient hyperparameter search](#Successive-Halving---resource-efficient-hyperparameter-search)\n",
    "- [Algorithm selection with nested cross-validation](#Algorithm-selection-with-nested-cross-validation)\n",
    "- [Looking at different performance evaluation metrics](#Looking-at-different-performance-evaluation-metrics)\n",
    "    - [Confusion Matrix](#Confusion-Matrix)\n",
    "    - [Optimizing the precision and recall of a classification model](#Optimizing-the-precision-and-recall-of-a-classification-model)\n",
    "    - [Plotting a ROC curve](#Plotting-a-ROC-curve)\n",
    "- [Dealing with class imbalance](#Dealing-with-class-imbalance)\n",
    "- [Summary](#Summary)"
   ]
  },
  {
   "cell_type": "markdown",
   "id": "041fc63e-023f-4241-854f-69bbc3b2de6b",
   "metadata": {
    "jp-MarkdownHeadingCollapsed": true,
    "tags": []
   },
   "source": [
    "## Streamlining workflows with pipelines \n",
    "\n",
    "```Pipeline``` class in scikit-learn. It allows us to fit a model including an arbitrary number of transformation steps and apply it to make predictions about new data."
   ]
  },
  {
   "cell_type": "code",
   "execution_count": 1,
   "id": "89d58333-9f40-463f-b2ec-e745b83f5213",
   "metadata": {},
   "outputs": [
    {
     "data": {
      "text/html": [
       "<div>\n",
       "<style scoped>\n",
       "    .dataframe tbody tr th:only-of-type {\n",
       "        vertical-align: middle;\n",
       "    }\n",
       "\n",
       "    .dataframe tbody tr th {\n",
       "        vertical-align: top;\n",
       "    }\n",
       "\n",
       "    .dataframe thead th {\n",
       "        text-align: right;\n",
       "    }\n",
       "</style>\n",
       "<table border=\"1\" class=\"dataframe\">\n",
       "  <thead>\n",
       "    <tr style=\"text-align: right;\">\n",
       "      <th></th>\n",
       "      <th>0</th>\n",
       "      <th>1</th>\n",
       "      <th>2</th>\n",
       "      <th>3</th>\n",
       "      <th>4</th>\n",
       "      <th>5</th>\n",
       "      <th>6</th>\n",
       "      <th>7</th>\n",
       "      <th>8</th>\n",
       "      <th>9</th>\n",
       "      <th>...</th>\n",
       "      <th>22</th>\n",
       "      <th>23</th>\n",
       "      <th>24</th>\n",
       "      <th>25</th>\n",
       "      <th>26</th>\n",
       "      <th>27</th>\n",
       "      <th>28</th>\n",
       "      <th>29</th>\n",
       "      <th>30</th>\n",
       "      <th>31</th>\n",
       "    </tr>\n",
       "  </thead>\n",
       "  <tbody>\n",
       "    <tr>\n",
       "      <th>0</th>\n",
       "      <td>842302</td>\n",
       "      <td>M</td>\n",
       "      <td>17.99</td>\n",
       "      <td>10.38</td>\n",
       "      <td>122.80</td>\n",
       "      <td>1001.0</td>\n",
       "      <td>0.11840</td>\n",
       "      <td>0.27760</td>\n",
       "      <td>0.3001</td>\n",
       "      <td>0.14710</td>\n",
       "      <td>...</td>\n",
       "      <td>25.38</td>\n",
       "      <td>17.33</td>\n",
       "      <td>184.60</td>\n",
       "      <td>2019.0</td>\n",
       "      <td>0.1622</td>\n",
       "      <td>0.6656</td>\n",
       "      <td>0.7119</td>\n",
       "      <td>0.2654</td>\n",
       "      <td>0.4601</td>\n",
       "      <td>0.11890</td>\n",
       "    </tr>\n",
       "    <tr>\n",
       "      <th>1</th>\n",
       "      <td>842517</td>\n",
       "      <td>M</td>\n",
       "      <td>20.57</td>\n",
       "      <td>17.77</td>\n",
       "      <td>132.90</td>\n",
       "      <td>1326.0</td>\n",
       "      <td>0.08474</td>\n",
       "      <td>0.07864</td>\n",
       "      <td>0.0869</td>\n",
       "      <td>0.07017</td>\n",
       "      <td>...</td>\n",
       "      <td>24.99</td>\n",
       "      <td>23.41</td>\n",
       "      <td>158.80</td>\n",
       "      <td>1956.0</td>\n",
       "      <td>0.1238</td>\n",
       "      <td>0.1866</td>\n",
       "      <td>0.2416</td>\n",
       "      <td>0.1860</td>\n",
       "      <td>0.2750</td>\n",
       "      <td>0.08902</td>\n",
       "    </tr>\n",
       "    <tr>\n",
       "      <th>2</th>\n",
       "      <td>84300903</td>\n",
       "      <td>M</td>\n",
       "      <td>19.69</td>\n",
       "      <td>21.25</td>\n",
       "      <td>130.00</td>\n",
       "      <td>1203.0</td>\n",
       "      <td>0.10960</td>\n",
       "      <td>0.15990</td>\n",
       "      <td>0.1974</td>\n",
       "      <td>0.12790</td>\n",
       "      <td>...</td>\n",
       "      <td>23.57</td>\n",
       "      <td>25.53</td>\n",
       "      <td>152.50</td>\n",
       "      <td>1709.0</td>\n",
       "      <td>0.1444</td>\n",
       "      <td>0.4245</td>\n",
       "      <td>0.4504</td>\n",
       "      <td>0.2430</td>\n",
       "      <td>0.3613</td>\n",
       "      <td>0.08758</td>\n",
       "    </tr>\n",
       "    <tr>\n",
       "      <th>3</th>\n",
       "      <td>84348301</td>\n",
       "      <td>M</td>\n",
       "      <td>11.42</td>\n",
       "      <td>20.38</td>\n",
       "      <td>77.58</td>\n",
       "      <td>386.1</td>\n",
       "      <td>0.14250</td>\n",
       "      <td>0.28390</td>\n",
       "      <td>0.2414</td>\n",
       "      <td>0.10520</td>\n",
       "      <td>...</td>\n",
       "      <td>14.91</td>\n",
       "      <td>26.50</td>\n",
       "      <td>98.87</td>\n",
       "      <td>567.7</td>\n",
       "      <td>0.2098</td>\n",
       "      <td>0.8663</td>\n",
       "      <td>0.6869</td>\n",
       "      <td>0.2575</td>\n",
       "      <td>0.6638</td>\n",
       "      <td>0.17300</td>\n",
       "    </tr>\n",
       "    <tr>\n",
       "      <th>4</th>\n",
       "      <td>84358402</td>\n",
       "      <td>M</td>\n",
       "      <td>20.29</td>\n",
       "      <td>14.34</td>\n",
       "      <td>135.10</td>\n",
       "      <td>1297.0</td>\n",
       "      <td>0.10030</td>\n",
       "      <td>0.13280</td>\n",
       "      <td>0.1980</td>\n",
       "      <td>0.10430</td>\n",
       "      <td>...</td>\n",
       "      <td>22.54</td>\n",
       "      <td>16.67</td>\n",
       "      <td>152.20</td>\n",
       "      <td>1575.0</td>\n",
       "      <td>0.1374</td>\n",
       "      <td>0.2050</td>\n",
       "      <td>0.4000</td>\n",
       "      <td>0.1625</td>\n",
       "      <td>0.2364</td>\n",
       "      <td>0.07678</td>\n",
       "    </tr>\n",
       "  </tbody>\n",
       "</table>\n",
       "<p>5 rows × 32 columns</p>\n",
       "</div>"
      ],
      "text/plain": [
       "         0  1      2      3       4       5        6        7       8   \\\n",
       "0    842302  M  17.99  10.38  122.80  1001.0  0.11840  0.27760  0.3001   \n",
       "1    842517  M  20.57  17.77  132.90  1326.0  0.08474  0.07864  0.0869   \n",
       "2  84300903  M  19.69  21.25  130.00  1203.0  0.10960  0.15990  0.1974   \n",
       "3  84348301  M  11.42  20.38   77.58   386.1  0.14250  0.28390  0.2414   \n",
       "4  84358402  M  20.29  14.34  135.10  1297.0  0.10030  0.13280  0.1980   \n",
       "\n",
       "        9   ...     22     23      24      25      26      27      28      29  \\\n",
       "0  0.14710  ...  25.38  17.33  184.60  2019.0  0.1622  0.6656  0.7119  0.2654   \n",
       "1  0.07017  ...  24.99  23.41  158.80  1956.0  0.1238  0.1866  0.2416  0.1860   \n",
       "2  0.12790  ...  23.57  25.53  152.50  1709.0  0.1444  0.4245  0.4504  0.2430   \n",
       "3  0.10520  ...  14.91  26.50   98.87   567.7  0.2098  0.8663  0.6869  0.2575   \n",
       "4  0.10430  ...  22.54  16.67  152.20  1575.0  0.1374  0.2050  0.4000  0.1625   \n",
       "\n",
       "       30       31  \n",
       "0  0.4601  0.11890  \n",
       "1  0.2750  0.08902  \n",
       "2  0.3613  0.08758  \n",
       "3  0.6638  0.17300  \n",
       "4  0.2364  0.07678  \n",
       "\n",
       "[5 rows x 32 columns]"
      ]
     },
     "execution_count": 1,
     "metadata": {},
     "output_type": "execute_result"
    }
   ],
   "source": [
    "# Loading the Breast Cancer Wisconsin dataset\n",
    "import pandas as pd\n",
    "\n",
    "df = pd.read_csv('https://archive.ics.uci.edu/ml/'\n",
    "                 'machine-learning-databases'\n",
    "                 '/breast-cancer-wisconsin/wdbc.data', header=None)\n",
    "\n",
    "df.head()"
   ]
  },
  {
   "cell_type": "code",
   "execution_count": 3,
   "id": "8873f992-d88d-432a-9e4d-20b00d935169",
   "metadata": {},
   "outputs": [
    {
     "data": {
      "text/plain": [
       "array(['B', 'M'], dtype=object)"
      ]
     },
     "execution_count": 3,
     "metadata": {},
     "output_type": "execute_result"
    }
   ],
   "source": [
    "# Encoding the class labels: B->0, M->1\n",
    "\n",
    "from sklearn.preprocessing import LabelEncoder\n",
    "\n",
    "X = df.loc[:, 2:].values\n",
    "y = df.loc[:,1].values\n",
    "\n",
    "le = LabelEncoder()\n",
    "y = le.fit_transform(y)\n",
    "le.classes_"
   ]
  },
  {
   "cell_type": "code",
   "execution_count": 4,
   "id": "ef185c5f-6d7d-49b2-a46a-6f80ae2cf0b2",
   "metadata": {},
   "outputs": [
    {
     "data": {
      "text/plain": [
       "array([1, 0])"
      ]
     },
     "execution_count": 4,
     "metadata": {},
     "output_type": "execute_result"
    }
   ],
   "source": [
    "# checking the label mapping\n",
    "le.transform(['M','B'])"
   ]
  },
  {
   "cell_type": "code",
   "execution_count": 5,
   "id": "afce167b-d509-423d-b1a4-2a2882693664",
   "metadata": {},
   "outputs": [],
   "source": [
    "# train test split\n",
    "\n",
    "from sklearn.model_selection import train_test_split\n",
    "\n",
    "X_train, X_test, y_train, y_test = train_test_split(X,y,test_size=0.2,\n",
    "                                                    stratify=y,\n",
    "                                                   random_state=1) "
   ]
  },
  {
   "cell_type": "markdown",
   "id": "c93b0ee9-44cb-43bc-b563-8987c8ee0921",
   "metadata": {
    "jp-MarkdownHeadingCollapsed": true,
    "tags": []
   },
   "source": [
    "## Combining transformers and estimators in a pipeline"
   ]
  },
  {
   "cell_type": "code",
   "execution_count": 6,
   "id": "e402018c-2661-46fb-9379-e27fec69af5f",
   "metadata": {},
   "outputs": [
    {
     "name": "stdout",
     "output_type": "stream",
     "text": [
      "Test accuracy: 0.956\n"
     ]
    }
   ],
   "source": [
    "# to standardize the data\n",
    "from sklearn.preprocessing import StandardScaler\n",
    "# dimentionality reduction\n",
    "from sklearn.decomposition import PCA\n",
    "# feeding the data to a linear classifier, Logistic Reg\n",
    "from sklearn.linear_model import LogisticRegression\n",
    "\n",
    "# Combining above steps into a pipeline\n",
    "from sklearn.pipeline import make_pipeline\n",
    "\n",
    "\n",
    "pipe_lr = make_pipeline(StandardScaler(),\n",
    "                        PCA(n_components=2),\n",
    "                        LogisticRegression())\n",
    "\n",
    "pipe_lr.fit(X_train, y_train)\n",
    "\n",
    "y_pred = pipe_lr.predict(X_test)\n",
    "\n",
    "test_acc = pipe_lr.score(X_test, y_test)\n",
    "print(f'Test accuracy: {test_acc:.3f}')"
   ]
  },
  {
   "cell_type": "markdown",
   "id": "e5b5dbfc-7761-4a46-aae1-af81798b4a1a",
   "metadata": {},
   "source": [
    "<div>\n",
    "<img src=\"Images/pipeline.png\" style=\"width: 500px;\"/>\n",
    "</div>"
   ]
  },
  {
   "cell_type": "markdown",
   "id": "08ab212c-7d09-4b35-8451-9a1cf7a38924",
   "metadata": {
    "jp-MarkdownHeadingCollapsed": true,
    "tags": []
   },
   "source": [
    "## Using k-fold Cross Validation to assess model performance\n",
    "\n",
    "- ***Holdout Cross-Validation***\n",
    "- ***k-fold Cross-Validation***"
   ]
  },
  {
   "cell_type": "markdown",
   "id": "d8a10035-38db-4e09-8627-4ad77489a258",
   "metadata": {
    "jp-MarkdownHeadingCollapsed": true,
    "tags": []
   },
   "source": [
    "### The Holdout Method\n",
    "\n",
    "- Tuning and comparing different parameter settings to further improve the performance for making predictions on unseen data. This process is called **model selection**.\n",
    "\n",
    "\n",
    "<div>\n",
    "<img src=\"Images/train_val_test_set.png\" style=\"width: 400px;\"/>\n",
    "</div>\n",
    "\n",
    "\n",
    "- A disadvantage of the holdout method is that the performance estimate may be very sensitive to how we partition the training dataset into the training and validation subsets; the estimate will vary for different examples of the data."
   ]
  },
  {
   "cell_type": "markdown",
   "id": "24f139eb-be1c-45a0-a376-16081566ad61",
   "metadata": {
    "jp-MarkdownHeadingCollapsed": true,
    "tags": []
   },
   "source": [
    "## K-fold cross-validation"
   ]
  },
  {
   "cell_type": "markdown",
   "id": "d661fa68-b909-48cc-8000-8c8ca77593f3",
   "metadata": {
    "tags": []
   },
   "source": [
    "- **In k-fold cross-validation, we randomly split the training dataset into k folds without replacement. Here, k – 1 folds, the so-called training folds, are used for the model training, and one fold, the so-called test fold, is used for performance evaluation. This procedure is repeated k times so that we obtain k models and performance estimates.**\n",
    "\n",
    "- Typically, we use k-fold cross-validation for model tuning, i.e., finding the optimal hyperparameter values that yield a satisfying generalization performance.\n",
    "\n",
    "- Once we have satisfactory hyperparameter values, we can retrain the model on the complete training dataset and obtain a final performance estimate using the independent test dataset.\n",
    "\n",
    "\n",
    "For k = 10 folds,<br>\n",
    "Also, the estimated performances, $E_i$ (for example, classification accuracy or error), for each fold are then used to calculate the estimated average performance, $E$, of the model:\n",
    "<div>\n",
    "<img src=\"Images/k_fold.png\" style=\"width: 500px;\"/>\n",
    "</div>\n",
    "\n",
    "\n",
    "- ***k=10 folds is a good standard in k-fold cv, which offers best tradeoff  b/w    bias & variance.***\n",
    "\n",
    "- ***However, for smaller datasets, increase the k value & for larger datasets, decrese the k value.***"
   ]
  },
  {
   "cell_type": "markdown",
   "id": "c8c8dd2a-5b30-4773-be96-cb7d1bcdfbbf",
   "metadata": {},
   "source": [
    "### Leave-one-out cross-validation \n",
    "\n",
    "A special case of k-fold cross-validation is the leave-one-out cross-validation (LOOCV) method. In LOOCV, we set the number of folds equal to the number of training examples (k = n) so that only one training example is used for testing during each iteration, which is a ***recommended approach for working with very small datasets.***"
   ]
  },
  {
   "cell_type": "markdown",
   "id": "6c7d0701-bd36-47d8-b7bc-3ef23d5a5dae",
   "metadata": {},
   "source": [
    "#### Stratified k-fold CV\n",
    "\n",
    "A slight improvement over the standard k-fold cross-validation approach is **stratified k-fold cross-validation**, which can yield better bias and variance estimates, especially **in cases of unequal class proportions**. \n",
    "\n",
    "\n",
    "In stratified cross-validation, the class label proportions are preserved in each fold to ensure that each fold is representative of the class proportions in the training dataset."
   ]
  },
  {
   "cell_type": "code",
   "execution_count": 7,
   "id": "72c7538f-eed5-4ee3-a310-530bf6927f4e",
   "metadata": {},
   "outputs": [
    {
     "name": "stdout",
     "output_type": "stream",
     "text": [
      "Fold: 01, Class distr.: [256 153], Acc.: 0.935\n",
      "Fold: 02, Class distr.: [256 153], Acc.: 0.935\n",
      "Fold: 03, Class distr.: [256 153], Acc.: 0.957\n",
      "Fold: 04, Class distr.: [256 153], Acc.: 0.957\n",
      "Fold: 05, Class distr.: [256 153], Acc.: 0.935\n",
      "Fold: 06, Class distr.: [257 153], Acc.: 0.956\n",
      "Fold: 07, Class distr.: [257 153], Acc.: 0.978\n",
      "Fold: 08, Class distr.: [257 153], Acc.: 0.933\n",
      "Fold: 09, Class distr.: [257 153], Acc.: 0.956\n",
      "Fold: 10, Class distr.: [257 153], Acc.: 0.956\n",
      "\n",
      "CV accuracy: 0.950 +/- 0.014\n"
     ]
    }
   ],
   "source": [
    "import numpy as np\n",
    "from sklearn.model_selection import StratifiedKFold\n",
    "\n",
    "kfold = StratifiedKFold(n_splits=10).split(X_train, y_train)\n",
    "\n",
    "scores = []\n",
    "\n",
    "for k, (train,test) in enumerate(kfold):\n",
    "    pipe_lr.fit(X_train[train], y_train[train])\n",
    "    \n",
    "    score = pipe_lr.score(X_train[test], y_train[test])\n",
    "    scores.append(score)\n",
    "    \n",
    "    print(f'Fold: {k+1:02d}, '\n",
    "          f'Class distr.: {np.bincount(y_train[train])}, '\n",
    "          f'Acc.: {score:.3f}')\n",
    "    \n",
    "mean_acc = np.mean(scores)\n",
    "std_acc = np.std(scores)\n",
    "print(f'\\nCV accuracy: {mean_acc:.3f} +/- {std_acc:.3f}')"
   ]
  },
  {
   "cell_type": "markdown",
   "id": "560b213c-e7f3-45d6-a430-592b7fb22332",
   "metadata": {},
   "source": [
    "Although the previous code example was useful to illustrate how k-fold cross-validation works, scikit-learn also implements a k-fold cross-validation scorer, which allows us to evaluate our model using stratified k-fold cross-validation less verbosely:"
   ]
  },
  {
   "cell_type": "code",
   "execution_count": 8,
   "id": "ba9c6d3b-df88-45c9-ac1f-834f8686e7bd",
   "metadata": {},
   "outputs": [
    {
     "name": "stdout",
     "output_type": "stream",
     "text": [
      "CV accuracy scores: [0.93478261 0.93478261 0.95652174 0.95652174 0.93478261 0.95555556\n",
      " 0.97777778 0.93333333 0.95555556 0.95555556]\n",
      "CV accuracy: 0.950 +/- 0.014\n"
     ]
    }
   ],
   "source": [
    "from sklearn.model_selection import cross_val_score\n",
    "\n",
    "scores = cross_val_score(estimator=pipe_lr,\n",
    "                         X=X_train,\n",
    "                         y=y_train,\n",
    "                         cv=10,\n",
    "                         n_jobs=1)\n",
    "\n",
    "print(f'CV accuracy scores: {scores}')\n",
    "\n",
    "print(f'CV accuracy: {np.mean(scores):.3f} '\n",
    "      f'+/- {np.std(scores):.3f}')"
   ]
  },
  {
   "cell_type": "markdown",
   "id": "4a7b79cb-4282-49d4-ba33-43b72d8f09c1",
   "metadata": {},
   "source": [
    "by setting ```n_jobs=2```, we distribute the 10 rounds of cross-validation to two CPUs, and by setting ```n_jobs=-1```, we can use all available CPUs on our machine to do the computation in parallel."
   ]
  },
  {
   "cell_type": "markdown",
   "id": "0d3d8892-f518-4d9f-a2dc-7f23af4f89db",
   "metadata": {
    "jp-MarkdownHeadingCollapsed": true,
    "tags": []
   },
   "source": [
    "## Debugging algorithms with learning curves"
   ]
  },
  {
   "cell_type": "markdown",
   "id": "e3410e8b-22f8-4fe9-b02f-de4b624cd834",
   "metadata": {
    "tags": []
   },
   "source": [
    "- Two very simple diagnostic tools that can help us to improve the performance of a learning algorithm: \n",
    "   - **learning curves** and \n",
    "   - **validation curves** \n",
    "<br>\n",
    "</br>\n",
    "- ***Learning curves can help to diagnose whether a learning algorithm has a problem with overfitting (high variance) or underfitting (high bias).*** \n",
    "\n",
    "- ***Validation curves can help to address the common issues of learning algorithms.***"
   ]
  },
  {
   "cell_type": "markdown",
   "id": "161f97ca-a1bd-4a8e-a298-d53d1c5a25a5",
   "metadata": {
    "tags": []
   },
   "source": [
    "### Diagnosing bias and variance problems with *Learning Curves*\n",
    "\n",
    "- Collecting more training examples to reduce the degree of overfitting.\n",
    "\n",
    "- ***By plotting the model training and validation accuracies as functions of the training dataset size, we can easily detect whether the model suffers from high variance or high bias, and whether the collection of more data could help to address this problem.***\n",
    "\n",
    "<div>\n",
    "<img src=\"Images/learning_curves.png\" style=\"width: 500px;\"/>\n",
    "</div>\n",
    "\n",
    "\n",
    "- The graph in the upper left shows a model with a high bias. This model has both low training and cross-validation accuracy, which indicates that it underfits the training data. \n",
    "    - Common ways to address this issue are to increase the # of model parameters, for example, by collecting or constructing additional features, or by decreasing the degree of regularization, for example, in SVM or logistic regression classifiers. \n",
    "\n",
    "- The graph in the upper-right shows a model that suffers from high variance, which is indicated by the large gap between the training and cross-validation accuracy. \n",
    "    - To address this problem of overfitting, we can collect more training data, reduce the complexity of the model, or increase the regularization parameter, for example. \n",
    "    \n",
    "    - For unregularized models, it can also help to decrease the number of features via feature selection (Chapter 4) or feature extraction (Chapter 5) to decrease the degree of overfitting. \n",
    "    \n",
    "    - While collecting more training data usually tends to decrease the chance of overfitting, it may not always help, for example, if the training data is extremely noisy or the model is already very close to optimal."
   ]
  },
  {
   "cell_type": "code",
   "execution_count": 9,
   "id": "3e692306-b26a-4b1f-b274-c880b702835e",
   "metadata": {
    "tags": []
   },
   "outputs": [
    {
     "data": {
      "image/png": "[encoded data removed]",
      "text/plain": [
       "<Figure size 640x480 with 1 Axes>"
      ]
     },
     "metadata": {},
     "output_type": "display_data"
    }
   ],
   "source": [
    "import matplotlib.pyplot as plt\n",
    "from sklearn.model_selection import learning_curve\n",
    "\n",
    "pipe_lr = make_pipeline(StandardScaler(),\n",
    "                        LogisticRegression(penalty='l2', max_iter=10000))\n",
    "\n",
    "train_sizes, train_scores, test_scores = learning_curve(estimator=pipe_lr,\n",
    "                                                        X=X_train,\n",
    "                                                        y=y_train,\n",
    "                                        train_sizes=np.linspace(0.1, 1.0, 10),\n",
    "                                        cv=10,\n",
    "                                        n_jobs=1)\n",
    "\n",
    "train_mean = np.mean(train_scores, axis=1)\n",
    "train_std = np.std(train_scores, axis=1)\n",
    "test_mean = np.mean(test_scores, axis=1)\n",
    "test_std = np.std(test_scores, axis=1)\n",
    "\n",
    "\n",
    "plt.plot(train_sizes, train_mean,\n",
    "         color='blue', marker='o',\n",
    "         markersize=5, label='Training accuracy')\n",
    "\n",
    "plt.fill_between(train_sizes,\n",
    "                 train_mean + train_std,\n",
    "                 train_mean - train_std,\n",
    "                 alpha=0.15, color='blue')\n",
    "\n",
    "plt.plot(train_sizes, test_mean,\n",
    "         color='green', linestyle='--',\n",
    "         marker='s', markersize=5,\n",
    "         label='Validation accuracy')\n",
    "\n",
    "plt.fill_between(train_sizes,\n",
    "                 test_mean + test_std,\n",
    "                 test_mean - test_std,\n",
    "                 alpha=0.15, color='green')\n",
    "\n",
    "plt.grid()\n",
    "plt.xlabel('Number of training examples')\n",
    "plt.ylabel('Accuracy')\n",
    "plt.legend(loc='lower right')\n",
    "plt.ylim([0.8, 1.03])\n",
    "plt.tight_layout()\n",
    "plt.show();"
   ]
  },
  {
   "cell_type": "markdown",
   "id": "39d2d6d8-2190-439d-bbd6-06ee9cbfb4a3",
   "metadata": {},
   "source": [
    "As we can see, our model performs quite well on both the training and validation datasets if it has seen more than 250 examples during training. We can also see that the training accuracy increases for training datasets with fewer than 250 examples, and the gap between validation and training accuracy widens—an indicator of an increasing degree of overfitting."
   ]
  },
  {
   "cell_type": "markdown",
   "id": "59d5498c-5f75-4026-a0e3-3a8d71463c46",
   "metadata": {
    "tags": []
   },
   "source": [
    "### Addressing over- and underfitting with validation curves\n",
    "\n",
    "Validation curves are a useful tool for improving the performance of a model by addressing issues such as overfitting or underfitting. Validation curves are related to learning curves, but instead of plotting the training and test accuracies as functions of the sample size, we vary the values of the model parameters, for example, the inverse regularization parameter, ```C```, in logistic regression."
   ]
  },
  {
   "cell_type": "code",
   "execution_count": 10,
   "id": "30ab5b19-d54b-4cc6-8aa8-dd959e0ce413",
   "metadata": {},
   "outputs": [
    {
     "data": {
      "image/png": "[encoded data removed]",
      "text/plain": [
       "<Figure size 640x480 with 1 Axes>"
      ]
     },
     "metadata": {},
     "output_type": "display_data"
    }
   ],
   "source": [
    "from sklearn.model_selection import validation_curve\n",
    "\n",
    "\n",
    "param_range = [0.001, 0.01, 0.1, 1.0, 10.0, 100.0]\n",
    "train_scores, test_scores = validation_curve(estimator=pipe_lr, \n",
    "                                             X=X_train, \n",
    "                                             y=y_train, \n",
    "                                             param_name='logisticregression__C', \n",
    "                                             param_range=param_range,\n",
    "                                             cv=10)\n",
    "\n",
    "train_mean = np.mean(train_scores, axis=1)\n",
    "train_std = np.std(train_scores, axis=1)\n",
    "test_mean = np.mean(test_scores, axis=1)\n",
    "test_std = np.std(test_scores, axis=1)\n",
    "\n",
    "plt.plot(param_range, train_mean, \n",
    "         color='blue', marker='o', \n",
    "         markersize=5, label='Training accuracy')\n",
    "\n",
    "plt.fill_between(param_range, train_mean + train_std,\n",
    "                 train_mean - train_std, alpha=0.15,\n",
    "                 color='blue')\n",
    "\n",
    "plt.plot(param_range, test_mean, \n",
    "         color='green', linestyle='--', \n",
    "         marker='s', markersize=5, \n",
    "         label='Validation accuracy')\n",
    "\n",
    "plt.fill_between(param_range, \n",
    "                 test_mean + test_std,\n",
    "                 test_mean - test_std, \n",
    "                 alpha=0.15, color='green')\n",
    "\n",
    "plt.grid()\n",
    "plt.xscale('log')\n",
    "plt.legend(loc='lower right')\n",
    "plt.xlabel('Parameter C')\n",
    "plt.ylabel('Accuracy')\n",
    "plt.ylim([0.8, 1.0])\n",
    "plt.tight_layout()\n",
    "plt.show();"
   ]
  },
  {
   "cell_type": "markdown",
   "id": "3f505865-5a43-41d6-a19c-aea1f58704a9",
   "metadata": {},
   "source": [
    "Although the differences in the accuracy for varying values of ```C``` are subtle, we can see that the model slightly underfits the data when we increase the regularization strength (small values of ```C```). However, for large values of ```C```, it means lowering the strength of regularization, so the model tends to slightly overfit the data. In this case, the sweet spot appears to be between 0.01 and 0.1 of the ```C``` value."
   ]
  },
  {
   "cell_type": "markdown",
   "id": "642d7164-bd63-4dc4-a504-866ef883971a",
   "metadata": {
    "tags": []
   },
   "source": [
    "## Tuning hyperparameters via Grid Search\n",
    "\n",
    "The grid search approach is quite simple: it’s a brute-force exhaustive search paradigm where we specify a list of values for different hyperparameters, and the computer evaluates the model performance for each combination to obtain the optimal combination of values from this set:"
   ]
  },
  {
   "cell_type": "code",
   "execution_count": 11,
   "id": "feadc542-fd00-4ac7-8312-835e01478fe6",
   "metadata": {},
   "outputs": [
    {
     "name": "stdout",
     "output_type": "stream",
     "text": [
      "0.9846859903381642\n",
      "{'svc__C': 100.0, 'svc__gamma': 0.001, 'svc__kernel': 'rbf'}\n"
     ]
    }
   ],
   "source": [
    "from sklearn.model_selection import GridSearchCV\n",
    "from sklearn.svm import SVC\n",
    "\n",
    "pipe_svc = make_pipeline(StandardScaler(),\n",
    "                         SVC(random_state=1))\n",
    "\n",
    "param_range = [0.0001, 0.001, 0.01, 0.1, 1.0, 10.0, 100.0, 1000.0]\n",
    "\n",
    "param_grid = [{'svc__C': param_range,'svc__kernel': ['linear']},\n",
    "        {'svc__C': param_range,'svc__gamma': param_range,'svc__kernel': ['rbf']}]\n",
    "\n",
    "gs = GridSearchCV(estimator=pipe_svc,\n",
    "                  param_grid=param_grid,\n",
    "                  scoring='accuracy',\n",
    "                  cv=10,\n",
    "                  refit=True,\n",
    "                  n_jobs=-1)\n",
    "\n",
    "gs = gs.fit(X_train,y_train)\n",
    "\n",
    "# to get the best score\n",
    "print(gs.best_score_)\n",
    "\n",
    "# to get the best parameters\n",
    "print(gs.best_params_)"
   ]
  },
  {
   "cell_type": "code",
   "execution_count": 12,
   "id": "bf877a85-2994-4531-976e-d52986bae58a",
   "metadata": {},
   "outputs": [
    {
     "name": "stdout",
     "output_type": "stream",
     "text": [
      "Test accuracy: 0.9736842105263158\n"
     ]
    }
   ],
   "source": [
    "# re-training our dataset on best params\n",
    "clf = gs.best_estimator_\n",
    "clf.fit(X_train,y_train)\n",
    "\n",
    "print(f\"Test accuracy: {clf.score(X_test, y_test)}\")"
   ]
  },
  {
   "cell_type": "code",
   "execution_count": 13,
   "id": "55994b39-d451-4747-9741-a77084adbf74",
   "metadata": {},
   "outputs": [
    {
     "data": {
      "text/plain": [
       "0.9736842105263158"
      ]
     },
     "execution_count": 13,
     "metadata": {},
     "output_type": "execute_result"
    }
   ],
   "source": [
    "# using refit=True directly trains our dataset on the best parameters\n",
    "gs.score(X_test,y_test)"
   ]
  },
  {
   "cell_type": "markdown",
   "id": "df605527-3aee-4b99-bc9f-5c0a7ea934bf",
   "metadata": {},
   "source": [
    "We set the param_grid parameter of ```GridSearchCV``` to a list of dictionaries to specify the parameters that we’d want to tune. \n",
    "\n",
    "\n",
    "For the linear SVM, we only evaluated the inverse regularization parameter, ```C```; for the radial basis function (RBF) kernel SVM, we tuned both the ```svc__C``` and ```svc__gamma``` parameters. Note that the ```svc__gamma``` parameter is specific to kernel SVMs. \n",
    "\n",
    "\n",
    "Please note that fitting a model with the best settings (```gs.best_estimator_```) on the training set manually via ```clf.fit(X_train, y_train)``` after completing the grid search is not necessary. The ```GridSearchCV``` class has a ```refit``` parameter, which will refit the ```gs.best_estimator_``` to the whole training set automatically if we set ```refit=True``` (default)."
   ]
  },
  {
   "cell_type": "markdown",
   "id": "4ec54790-7a4e-442f-9ece-5b6897874352",
   "metadata": {
    "tags": []
   },
   "source": [
    "## Tuning hyperparameters via Randomized Search\n",
    "\n",
    "- Since grid search is an exhaustive search, it is guaranteed to find the optimal hyperparameter configuration if it is contained in the user-specified parameter grid. *However, specifying large hyperparameter grids makes grid search very expensive in practice.* \n",
    "\n",
    "- An alternative approach for sampling different parameter combinations is randomized search. ***In randomized search, we draw hyperparameter configurations randomly from distributions(or discrete sets).*** \n",
    "\n",
    "- In contrast to grid search, randomized search does not do an exhaustive search over the hyperparameter space. Still, it allows us to explore a wider range of hyperparameter value settings in a more cost- and time-effective manner. \n",
    "\n",
    "- This concept is illustrated in Figure 6.7, which shows a fixed grid of nine hyperparameter settings being searched via grid search and randomized search: \n",
    "\n",
    "\n",
    "<div>\n",
    "<img src=\"Images/randomized_search.png\" style=\"width: 500px;\"/>\n",
    "</div>\n",
    "\n",
    "\n",
    "- ***The main takeaway is that while grid search only explores discrete, user-specified choices, it may miss good hyperparameter configurations if the search space is too scarce.***\n",
    "\n",
    "The main difference b/w ```GridSearchCV``` & ```RandomizedSearchCV``` is that we can specify distributions as part of our parameter grid and specify the total number of hyperparameter configurations to be evaluated."
   ]
  },
  {
   "cell_type": "code",
   "execution_count": 14,
   "id": "d717d2c5-a2d5-4334-a64a-43f5fe7f6a05",
   "metadata": {},
   "outputs": [
    {
     "name": "stdout",
     "output_type": "stream",
     "text": [
      "0.9737681159420291\n",
      "{'svc__kernel': 'rbf', 'svc__gamma': 0.001, 'svc__C': 10.0}\n"
     ]
    }
   ],
   "source": [
    "# RandomizedSearchCV using discrete param values\n",
    "\n",
    "from sklearn.model_selection import RandomizedSearchCV\n",
    "\n",
    "\n",
    "pipe_svc = make_pipeline(StandardScaler(),\n",
    "                         SVC(random_state=1))\n",
    "\n",
    "# Using previous param range\n",
    "param_range = [0.0001, 0.001, 0.01, 0.1, 1.0, 10.0, 100.0, 1000.0]\n",
    "\n",
    "param_grid = [{'svc__C': param_range,'svc__kernel': ['linear']},\n",
    "              {'svc__C': param_range,'svc__gamma': param_range,\n",
    "               'svc__kernel': ['rbf']}]\n",
    "\n",
    "\n",
    "rs = RandomizedSearchCV(estimator=pipe_svc,\n",
    "                        param_distributions=param_grid,\n",
    "                        scoring='accuracy',\n",
    "                        refit=True,\n",
    "                        n_iter=20,\n",
    "                        cv=10,\n",
    "                        random_state=1,\n",
    "                        n_jobs=-1)\n",
    "\n",
    "rs = rs.fit(X_train, y_train)\n",
    "print(rs.best_score_)\n",
    "print(rs.best_params_)"
   ]
  },
  {
   "cell_type": "code",
   "execution_count": 16,
   "id": "8bc96146-7f67-475e-8434-dc2712e89eea",
   "metadata": {},
   "outputs": [
    {
     "data": {
      "text/plain": [
       "array([8.30145146e-02, 1.10222804e+01, 1.00184520e-04, 1.30715777e-02,\n",
       "       1.06485687e-03, 4.42965766e-04, 2.01289666e-03, 2.62376594e-02,\n",
       "       5.98924832e-02, 5.91176467e-01])"
      ]
     },
     "execution_count": 16,
     "metadata": {},
     "output_type": "execute_result"
    }
   ],
   "source": [
    "import scipy.stats\n",
    "\n",
    "# Using a distribution\n",
    "param_range = scipy.stats.loguniform(0.0001, 1000.0)\n",
    "\n",
    "np.random.seed(1)\n",
    "\n",
    "# drawing 10 random samples from the above distribution using rvs() method\n",
    "param_range.rvs(10)"
   ]
  },
  {
   "cell_type": "code",
   "execution_count": 17,
   "id": "f7c4d3ec-735f-42f2-890f-3d9efd97d569",
   "metadata": {},
   "outputs": [
    {
     "name": "stdout",
     "output_type": "stream",
     "text": [
      "0.9780676328502416\n",
      "{'svc__C': 0.05971247755848464, 'svc__kernel': 'linear'}\n"
     ]
    }
   ],
   "source": [
    "# RandomizedSearchCV using a distribution of param values\n",
    "\n",
    "from sklearn.model_selection import RandomizedSearchCV\n",
    "\n",
    "\n",
    "pipe_svc = make_pipeline(StandardScaler(),\n",
    "                         SVC(random_state=1))\n",
    "\n",
    "# Using a distribution\n",
    "param_range = scipy.stats.loguniform(0.0001, 1000.0)\n",
    "\n",
    "\n",
    "param_grid = [{'svc__C': param_range,'svc__kernel': ['linear']},\n",
    "              {'svc__C': param_range,'svc__gamma': param_range,\n",
    "               'svc__kernel': ['rbf']}]\n",
    "\n",
    "\n",
    "rs = RandomizedSearchCV(estimator=pipe_svc,\n",
    "                        param_distributions=param_grid,\n",
    "                        scoring='accuracy',\n",
    "                        refit=True,\n",
    "                        n_iter=20,\n",
    "                        cv=10,\n",
    "                        random_state=1,\n",
    "                        n_jobs=-1)\n",
    "\n",
    "rs = rs.fit(X_train, y_train)\n",
    "print(rs.best_score_)\n",
    "print(rs.best_params_)"
   ]
  },
  {
   "cell_type": "markdown",
   "id": "38531f7a-a5c3-458e-bd48-6aea8b774858",
   "metadata": {
    "jp-MarkdownHeadingCollapsed": true,
    "tags": []
   },
   "source": [
    "## Successive Halving - resource efficient hyperparameter search\n",
    "\n",
    "Taking the idea of randomized search one step further, scikit-learn implements a successive halving variant, ```HalvingRandomSearchCV```, that makes finding suitable hyperparameter configurations more efficient. \n",
    "\n",
    "Successive halving, given a large set of candidate configurations, successively throws out unpromising hyperparameter configurations until only one configuration remains. We can summarize the procedure via the following steps:\n",
    "\n",
    "   1. Draw a large set of candidate configurations via random sampling \n",
    "   \n",
    "   2. Train the models with limited resources, for example, a small subset of the training data (as opposed to using the entire training set) \n",
    "   \n",
    "   3. Discard the bottom 50 percent based on predictive performance \n",
    "   \n",
    "   4. Go back to step 2 with an increased amount of available resources \n",
    "   \n",
    "The steps are repeated until only one hyperparameter configuration remains. Note that there is also a successive halving implementation for the grid search variant called ```HalvingGridSearchCV```, where all specified hyperparameter configurations are used in step 1 instead of random samples."
   ]
  },
  {
   "cell_type": "code",
   "execution_count": 18,
   "id": "3d7cb572-5ab9-436b-8d46-bf84d3237813",
   "metadata": {},
   "outputs": [],
   "source": [
    "# enabling HalvingRandomSearchCV in sklearn\n",
    "from sklearn.experimental import enable_halving_search_cv\n",
    "\n",
    "# importing it\n",
    "from sklearn.model_selection import HalvingRandomSearchCV"
   ]
  },
  {
   "cell_type": "code",
   "execution_count": 19,
   "id": "eb42639e-be01-432d-a6d4-474acf75ff1f",
   "metadata": {},
   "outputs": [
    {
     "name": "stdout",
     "output_type": "stream",
     "text": [
      "0.9617647058823529\n",
      "{'svc__C': 4.934834261073341, 'svc__kernel': 'linear'}\n"
     ]
    }
   ],
   "source": [
    "hs = HalvingRandomSearchCV(pipe_svc,\n",
    "                           param_distributions=param_grid,\n",
    "                           n_candidates='exhaust',\n",
    "                           resource='n_samples',\n",
    "                           factor=1.5,\n",
    "                           random_state=1,\n",
    "                           n_jobs=-1)\n",
    "\n",
    "hs = hs.fit(X_train, y_train)\n",
    "\n",
    "print(hs.best_score_)\n",
    "print(hs.best_params_)"
   ]
  },
  {
   "cell_type": "code",
   "execution_count": 20,
   "id": "f75a38c2-8d4c-4ec8-bdee-955dfbe826b9",
   "metadata": {},
   "outputs": [
    {
     "name": "stdout",
     "output_type": "stream",
     "text": [
      "Test accuracy: 0.982\n"
     ]
    }
   ],
   "source": [
    "clf = hs.best_estimator_\n",
    "print(f'Test accuracy: {hs.score(X_test, y_test):.3f}')"
   ]
  },
  {
   "cell_type": "markdown",
   "id": "84f0688d-a17b-4b2e-b8dc-fd9dc9b822e1",
   "metadata": {
    "jp-MarkdownHeadingCollapsed": true,
    "tags": []
   },
   "source": [
    "## Algorithm selection with ***nested cross-validation*** \n",
    "\n",
    "- Using k-fold cross-validation in combination with grid search or randomized search is a useful approach for fine-tuning the performance of a machine learning model by varying its hyperparameter values, as we saw in the previous subsections. \n",
    "\n",
    "- **If we want to select among different machine learning algorithms,** ***nested cross-validation*** **is recommended. In a nice study on the bias in error estimation, concluded that the true error of the estimate is almost unbiased relative to the test dataset when nested cross-validation is used.**\n",
    "\n",
    "\n",
    "- In nested cross-validation, we have an outer k-fold cross-validation loop to split the data into training and test folds, and an inner loop is used to select the model using k-fold cross-validation on the training fold. After model selection, the test fold is then used to evaluate the model performance. \n",
    "\n",
    "- Figure 6.8 explains the concept of nested cross-validation with only five outer and two inner folds, which can be useful for large datasets where computational performance is important; this particular type of nested cross-validation is also known as 5×2 cross-validation:\n",
    "<div>\n",
    "<img src=\"Images/nested_cv.png\" style=\"width: 400px;\"/>\n",
    "</div>"
   ]
  },
  {
   "cell_type": "code",
   "execution_count": 21,
   "id": "36028a7a-0f8b-4c69-98a3-1505c292fc05",
   "metadata": {},
   "outputs": [
    {
     "name": "stdout",
     "output_type": "stream",
     "text": [
      "CV accuracy: 0.974 +/- 0.015\n"
     ]
    }
   ],
   "source": [
    "param_range = [0.0001, 0.001, 0.01, 0.1, 1.0, 10.0, 100.0, 1000.0]\n",
    "\n",
    "param_grid = [{'svc__C': param_range,'svc__kernel': ['linear']},\n",
    "              {'svc__C': param_range,'svc__gamma': param_range,\n",
    "               'svc__kernel': ['rbf']}]\n",
    "\n",
    "gs = GridSearchCV(estimator=pipe_svc,\n",
    "                  param_grid=param_grid,\n",
    "                  scoring='accuracy',\n",
    "                  cv=2)\n",
    "\n",
    "scores = cross_val_score(gs, X_train, y_train, \n",
    "                         scoring='accuracy', cv=5)\n",
    "\n",
    "print(f'CV accuracy: {np.mean(scores):.3f} '\n",
    "      f'+/- {np.std(scores):.3f}')"
   ]
  },
  {
   "cell_type": "markdown",
   "id": "fdf43eec-9ba6-44da-9ec3-2361cea4fa0c",
   "metadata": {},
   "source": [
    "The returned average cross-validation accuracy gives us a good estimate of what to expect if we tune the hyperparameters of a model and use it on unseen data. \n",
    "\n",
    "\n",
    "For example, we can use the nested cross-validation approach to compare an SVM model to a simple decision tree classifier; for simplicity, we will only tune its depth parameter:"
   ]
  },
  {
   "cell_type": "code",
   "execution_count": 22,
   "id": "008b8156-7aa5-4b9e-a08b-8776db3bbf8c",
   "metadata": {},
   "outputs": [
    {
     "name": "stdout",
     "output_type": "stream",
     "text": [
      "CV accuracy: 0.934 +/- 0.016\n"
     ]
    }
   ],
   "source": [
    "from sklearn.tree import DecisionTreeClassifier\n",
    "\n",
    "gs = GridSearchCV(estimator=DecisionTreeClassifier(random_state=0),\n",
    "                  param_grid=[{'max_depth': [1, 2, 3, 4, 5, 6, 7, None]}],\n",
    "                  scoring='accuracy',\n",
    "                  cv=2)\n",
    "\n",
    "scores = cross_val_score(gs, X_train, y_train, \n",
    "                         scoring='accuracy', cv=5)\n",
    "\n",
    "print(f'CV accuracy: {np.mean(scores):.3f} '\n",
    "      f'+/- {np.std(scores):.3f}')"
   ]
  },
  {
   "cell_type": "markdown",
   "id": "f22c630a-7b01-4866-99aa-92d3b967dc1a",
   "metadata": {},
   "source": [
    "As we can see, the nested cross-validation performance of the SVM model (97.4 percent) is notably better than the performance of the decision tree (93.4 percent), and thus, we’d expect that it might be the better choice to classify new data that comes from the same population as this particular dataset."
   ]
  },
  {
   "cell_type": "markdown",
   "id": "bcb3c993-be9f-4a66-b6ea-9ee04096e1e7",
   "metadata": {
    "tags": []
   },
   "source": [
    "## Looking at different performance evaluation metrics\n",
    "\n",
    "- **Precision**\n",
    "- **Recall**\n",
    "- **F1 Score**\n",
    "- **Matthews correlation coefficient(MCC)**"
   ]
  },
  {
   "cell_type": "markdown",
   "id": "982b512d-a10e-4bad-8bd4-4e68849950f9",
   "metadata": {
    "jp-MarkdownHeadingCollapsed": true,
    "tags": []
   },
   "source": [
    "## Confusion Matrix\n",
    "\n",
    "A confusion matrix is a matrix that lays out the performance of a learning algorithm. A confusion matrix is simply a square matrix that reports the counts of the **true positive(TP)**, **true negative(TN)**, **false positive(FP)**, and **false negative(FN)** predictions of a classifier,\n",
    "<div>\n",
    "<img src=\"Images/confusion_matrix.png\" style=\"width: 300px;\"/>\n",
    "</div>"
   ]
  },
  {
   "cell_type": "code",
   "execution_count": 26,
   "id": "1fe52064-8abc-41a3-b0f9-6f9acbf68dd9",
   "metadata": {},
   "outputs": [
    {
     "name": "stdout",
     "output_type": "stream",
     "text": [
      "[[71  1]\n",
      " [ 2 40]]\n"
     ]
    }
   ],
   "source": [
    "from sklearn.metrics import confusion_matrix\n",
    "\n",
    "pipe_svc.fit(X_train, y_train)\n",
    "\n",
    "y_pred = pipe_svc.predict(X_test)\n",
    "\n",
    "confu_mat = confusion_matrix(y_true=y_test, y_pred=y_pred)\n",
    "print(confu_mat)\n",
    "\n",
    "# The array that was returned after executing the code provides us with\n",
    "# information about the different types of error the classifier made \n",
    "# on the test dataset."
   ]
  },
  {
   "cell_type": "code",
   "execution_count": 28,
   "id": "e781d969-a1b8-41ba-b446-74ebae72d1a4",
   "metadata": {},
   "outputs": [
    {
     "data": {
      "image/png": "[encoded data removed]",
      "text/plain": [
       "<Figure size 250x250 with 1 Axes>"
      ]
     },
     "metadata": {},
     "output_type": "display_data"
    }
   ],
   "source": [
    "fig, ax = plt.subplots(figsize=(2.5, 2.5))\n",
    "\n",
    "ax.matshow(confu_mat, cmap=plt.cm.Blues, alpha=0.3)\n",
    "\n",
    "for i in range(confu_mat.shape[0]):\n",
    "    for j in range(confu_mat.shape[1]):\n",
    "        ax.text(x=j, y=i, s=confu_mat[i, j], va='center', ha='center')\n",
    "        \n",
    "ax.xaxis.set_ticks_position('bottom')\n",
    "\n",
    "plt.xlabel('Predicted label')\n",
    "plt.ylabel('True label')\n",
    "\n",
    "plt.tight_layout()\n",
    "plt.show();"
   ]
  },
  {
   "cell_type": "markdown",
   "id": "aac2c30c-b424-40cc-b6d2-0e419649916e",
   "metadata": {},
   "source": [
    "*Assuming that class ```1``` (malignant) is the positive class in this example,*\n",
    "\n",
    "- **our model correctly classified 71 of the examples that belong to class ```0``` (TN) and** \n",
    "\n",
    "- **40 examples that belong to class ```1``` (TP), respectively.** \n",
    "\n",
    "- **However, our model also incorrectly misclassified two examples from class ```1``` as class ```0``` (FN),** \n",
    "\n",
    "- **and it predicted that one example is malignant although it is a benign tumor (FP).**"
   ]
  },
  {
   "cell_type": "markdown",
   "id": "36ab6e36-7d07-4125-b3c0-ce2c4faee088",
   "metadata": {},
   "source": [
    "Additional Note\n",
    "\n",
    "Remember that we previously encoded the class labels so that malignant examples are the \"postive\" class (1), and benign examples are the \"negative\" class (0):"
   ]
  },
  {
   "cell_type": "code",
   "execution_count": 29,
   "id": "504ce7d0-6d5d-4385-a721-c6609212dbd5",
   "metadata": {},
   "outputs": [
    {
     "data": {
      "text/plain": [
       "array([1, 0])"
      ]
     },
     "execution_count": 29,
     "metadata": {},
     "output_type": "execute_result"
    }
   ],
   "source": [
    "le.transform(['M', 'B'])"
   ]
  },
  {
   "cell_type": "markdown",
   "id": "5e234a90-cbea-401c-b2e3-a6d00cd42a1f",
   "metadata": {},
   "source": [
    "Next, we printed the confusion matrix like so:"
   ]
  },
  {
   "cell_type": "code",
   "execution_count": 31,
   "id": "0e484669-a073-4127-b643-eddec19f67af",
   "metadata": {},
   "outputs": [
    {
     "name": "stdout",
     "output_type": "stream",
     "text": [
      "[[71  1]\n",
      " [ 2 40]]\n"
     ]
    }
   ],
   "source": [
    "confmat = confusion_matrix(y_true=y_test, y_pred=y_pred)\n",
    "print(confmat)"
   ]
  },
  {
   "cell_type": "markdown",
   "id": "0befe95d-b66b-4218-8732-c92f267fb6f0",
   "metadata": {},
   "source": [
    "Note that the (true) class 0 examples that are correctly predicted as class 0 (true negatives) are now in the upper left corner of the matrix (index 0, 0). In order to change the ordering so that the true negatives are in the lower right corner (index 1,1) and the true positves are in the upper left, we can use the labels argument like shown below:"
   ]
  },
  {
   "cell_type": "code",
   "execution_count": 32,
   "id": "2c2c9db9-019d-4919-8d04-b8547ee853ec",
   "metadata": {},
   "outputs": [
    {
     "name": "stdout",
     "output_type": "stream",
     "text": [
      "[[40  2]\n",
      " [ 1 71]]\n"
     ]
    }
   ],
   "source": [
    "confmat = confusion_matrix(y_true=y_test, y_pred=y_pred, labels=[1, 0])\n",
    "print(confmat)"
   ]
  },
  {
   "cell_type": "markdown",
   "id": "fb2a5993-b6ec-45db-a43c-701ff49b31b6",
   "metadata": {},
   "source": [
    "We conclude:\n",
    "\n",
    "Assuming that class 1 (malignant) is the positive class in this example, our model correctly classified 71 of the examples that belong to class 0 (true negatives) and 40 examples that belong to class 1 (true positives), respectively. However, our model also incorrectly misclassified 1 example from class 0 as class 1 (false positive), and it predicted that 2 examples are benign although it is a malignant tumor (false negatives)."
   ]
  },
  {
   "cell_type": "markdown",
   "id": "9ead3001-1495-4537-918c-953ef26e658e",
   "metadata": {
    "tags": []
   },
   "source": [
    "## Optimizing the precision and recall of a classification model\n",
    "\n",
    "\n",
    "<div align=\"center\">\n",
    "<img src=\"Images/confusion_matrix.png\" style=\"width: 300px;\"/>\n",
    "</div>\n",
    "\n",
    "\n",
    "- The **error(ERR)** can be understood as the sum of all false predictions divided by the number of total predictions, and the **accuracy(ACC)** is calculated as the sum of correct predictions divided by the total number of predictions, respectively:\n",
    "$$\\boxed{\\textbf{ERR} = \\frac{\\text{FP + FN}}{\\text{FP + FN + TP + TN}}}$$\n",
    "\n",
    "\n",
    "$$\\boxed{\\text{Acurracy} = \\textbf{ACC} = \\frac{\\text{TP + TN}}{\\text{FP + FN + TP + TN}} = 1 - \\textbf{ERR}}$$\n",
    "\n",
    "\n",
    "- The **true positive rate (TPR)** and **false positive rate (FPR)** are performance metrics that are especially useful for imbalanced class problems:\n",
    "$$\\boxed{\\textbf{FPR} = \\frac{FP}{N} = \\frac{FP}{FP + TN}}$$\n",
    "\n",
    "$$\\boxed{\\textbf{TPR} = \\frac{TP}{P} = \\frac{TP}{FN + TP}}$$\n",
    "\n",
    "\n",
    "In tumor diagnosis, for example, we are more concerned about the detection of malignant tumors in order to help a patient with the appropriate treatment. However, it is also important to decrease the number of benign tumors incorrectly classified as malignant (FP) to not unnecessarily concern patients. \n",
    "\n",
    "In contrast to the FPR, the TPR provides useful information about the fraction of positive (or relevant) examples that were correctly identified out of the total pool of positives (P). \n",
    "\n",
    "- The performance metrics **precision (PRE)** and **recall (REC)** are related to those TP and TN rates, and in fact, REC is synonymous with TPR: $$\\boxed{\\textbf{REC = TPR}}$$ ***In other words, recall quantifies how many of the relevant records (the positives) are captured as such (the true positives).*** \n",
    "\n",
    "- ***Precision quantifies how many of the records predicted as relevant (the sum of true and false positives) are actually relevant (true positives):*** $$\\boxed{\\textbf{PRE} = \\frac{TP}{TP + FP}}$$\n",
    "\n",
    "\n",
    "Revisiting the malignant tumor detection example, optimizing for recall helps with minimizing the chance of not detecting a malignant tumor. However, this comes at the cost of predicting malignant tumors in patients although the patients are healthy (a high number of FPs). If we optimize for precision, on the other hand, we emphasize correctness if we predict that a patient has a malignant tumor. However, this comes at the cost of missing malignant tumors more frequently (a high number of FNs). \n",
    "\n",
    "\n",
    "- **To balance the up- and downsides of optimizing PRE and REC, the harmonic mean of PRE and REC is used, the so-called F1 score:**\n",
    "$$\\boxed{\\textbf{F1} = 2\\frac{PRE \\times REC}{PRE + REC}}$$\n",
    "\n",
    "\n",
    "Lastly, a measure that summarizes a confusion matrix is the **MCC**, which is especially popular in biological research contexts. The MCC is calculated as follows: \n",
    "\n",
    "$$\\textbf{MCC} = \\frac{TP \\times TN - FP \\times FN}{\\sqrt{(TP+FP)(TP+FN)(TN+FP)(TN+FN)}}$$\n",
    "\n",
    "In contrast to PRE, REC, and the F1 score, the MCC ranges between –1 and 1, and it takes all elements of a confusion matrix into account—for instance, the F1 score does not involve the TN. While the MCC values are harder to interpret than the F1 score, it is regarded as a superior metric,"
   ]
  },
  {
   "cell_type": "markdown",
   "id": "2bd5ee44-69ec-49e0-a524-1da76c4799bc",
   "metadata": {},
   "source": [
    "<div align=\"center\">\n",
    "<img src=\"Images/confusion_matrix.png\" style=\"width: 300px;\"/>\n",
    "</div>\n",
    "\n",
    "- ***Sensitivity/Recall/True Positive Rate***: \n",
    "    Sensitivity is the conditional probability that the predicted class is positive given that the actual class is  positive.\n",
    "    $$\\text{Recall} = \\text{TPR}= \\frac{TP}{TP + FN}$$\n",
    "\n",
    "\n",
    "- ***Specificity(True Negative Rate)***: \n",
    "    Specificity is the conditional probability that the predicted class is negative given that the actual class is  negative.\n",
    "    $$\\text{Specificity} = \\frac{TN}{TN + FP}$$\n",
    "\n",
    "\n",
    "- ***Precision***: \n",
    "    Precision is the conditional probability that the actual value is positive given that the prediction by the  model is positive.\n",
    "    $$\\text{Presion} = \\frac{TP}{TP + FP}$$\n",
    "\n",
    " \n",
    "- ***F-Score***: \n",
    "    F-Score is a measure that combines precision and recall (harmonic mean between precision and recall). \n",
    "    $$\\text{F-Score} = \\frac{2 * Recall * Precision}{Recall + Precision}$$\n",
    "\n",
    "\n",
    "```classification_report()``` method in skearn.metrics gives a detailed report of precision, recall, and F-score  for each class."
   ]
  },
  {
   "cell_type": "code",
   "execution_count": 36,
   "id": "961cb36f-e0fd-47b8-9c95-5e1a9b67868e",
   "metadata": {},
   "outputs": [
    {
     "name": "stdout",
     "output_type": "stream",
     "text": [
      "              precision    recall  f1-score   support\n",
      "\n",
      "           0       0.97      0.99      0.98        72\n",
      "           1       0.98      0.95      0.96        42\n",
      "\n",
      "    accuracy                           0.97       114\n",
      "   macro avg       0.97      0.97      0.97       114\n",
      "weighted avg       0.97      0.97      0.97       114\n",
      "\n"
     ]
    }
   ],
   "source": [
    "from sklearn.metrics import classification_report,\\\n",
    "                            precision_score,\\\n",
    "                            recall_score, f1_score,\\\n",
    "                            matthews_corrcoef\n",
    "\n",
    "\n",
    "print(classification_report(y_true=y_test, y_pred=y_pred))\n",
    "\n",
    "# Here, Support is the number of actual occurrences of the class in the specified dataset"
   ]
  },
  {
   "cell_type": "code",
   "execution_count": 37,
   "id": "fc8b29c4-e1e1-4976-976f-f1f32b41ad46",
   "metadata": {},
   "outputs": [
    {
     "name": "stdout",
     "output_type": "stream",
     "text": [
      "Precision: 0.976\n",
      "Recall: 0.952\n",
      "F1: 0.964\n",
      "MCC: 0.943\n"
     ]
    }
   ],
   "source": [
    "pre_val = precision_score(y_true=y_test, y_pred=y_pred)\n",
    "print(f'Precision: {pre_val:.3f}')\n",
    "\n",
    "rec_val = recall_score(y_true=y_test, y_pred=y_pred)\n",
    "print(f'Recall: {rec_val:.3f}')\n",
    "\n",
    "f1_val = f1_score(y_true=y_test, y_pred=y_pred)\n",
    "print(f'F1: {f1_val:.3f}')\n",
    "\n",
    "mcc_val = matthews_corrcoef(y_true=y_test, y_pred=y_pred)\n",
    "print(f'MCC: {mcc_val:.3f}')"
   ]
  },
  {
   "cell_type": "markdown",
   "id": "37d8083c-55e1-47b9-88f0-f892e83020c4",
   "metadata": {},
   "source": [
    "#### ```make_scorer``` function\n",
    "\n",
    "**Remember that the positive class in scikit-learn is the class that is labeled as class ```1```. If we want to specify a different positive label, we can construct our own scorer via the ```make_scorer``` function, which we can then directly provide as an argument to the ```scoring``` parameter in ```GridSearchCV``` (in this example, using the ```f1_score``` as a metric):**"
   ]
  },
  {
   "cell_type": "code",
   "execution_count": 38,
   "id": "7a1ce08a-5896-4afb-b03a-0790510cb832",
   "metadata": {},
   "outputs": [
    {
     "name": "stdout",
     "output_type": "stream",
     "text": [
      "0.9861994953378878\n",
      "{'svc__C': 10.0, 'svc__gamma': 0.01, 'svc__kernel': 'rbf'}\n"
     ]
    }
   ],
   "source": [
    "from sklearn.metrics import make_scorer\n",
    "\n",
    "scorer = make_scorer(f1_score, pos_label=0)\n",
    "\n",
    "c_gamma_range = [0.01, 0.1, 1.0, 10.0]\n",
    "\n",
    "param_grid = [{'svc__C': c_gamma_range,\n",
    "               'svc__kernel': ['linear']},\n",
    "              {'svc__C': c_gamma_range,\n",
    "               'svc__gamma': c_gamma_range,\n",
    "               'svc__kernel': ['rbf']}]\n",
    "\n",
    "gs = GridSearchCV(estimator=pipe_svc,\n",
    "                  param_grid=param_grid,\n",
    "                  scoring=scorer,\n",
    "                  cv=10,\n",
    "                  n_jobs=-1)\n",
    "\n",
    "gs = gs.fit(X_train, y_train)\n",
    "print(gs.best_score_)\n",
    "print(gs.best_params_)"
   ]
  },
  {
   "cell_type": "markdown",
   "id": "3d8170a7-4380-4823-af08-1bf14175bd75",
   "metadata": {},
   "source": [
    "## Plotting a ROC curve\n",
    "\n",
    "- **Receiver operating characteristic (ROC)** *graphs are useful tools to select models for classification based on their performance with respect to the FPR and TPR, which are computed by shifting the decision threshold of the classifier.* \n",
    "\n",
    "- ***The diagonal of a ROC graph can be interpreted as random guessing, and classification models that fall below the diagonal are considered as worse than random guessing.*** \n",
    "\n",
    "- ***A perfect classifier would fall into the top-left corner of the graph with a TPR of 1 and an FPR of 0.*** \n",
    "\n",
    "- *Based on the ROC curve, we can then compute the so-called* **ROC area under the curve (ROC AUC)** *to characterize the performance of a classification model.* \n",
    "\n",
    "- Similar to ROC curves, we can compute precision-recall curves for different probability thresholds of a classifier. A function for plotting those precision-recall curves is also implemented in scikit-learn and is documented at http://scikit-learn.org/stable/modules/generated/sklearn.metrics.precision_recall_curve.html"
   ]
  },
  {
   "cell_type": "code",
   "execution_count": 43,
   "id": "24636817-7134-43d7-bf7b-c39a9ec33457",
   "metadata": {},
   "outputs": [
    {
     "data": {
      "text/plain": [
       "0.9692460317460317"
      ]
     },
     "execution_count": 43,
     "metadata": {},
     "output_type": "execute_result"
    }
   ],
   "source": [
    "from sklearn.metrics import roc_auc_score\n",
    "\n",
    "roc_auc_score(y_test, y_pred)"
   ]
  },
  {
   "cell_type": "code",
   "execution_count": 39,
   "id": "c6eb14ac-73fa-443f-9d1e-429570550082",
   "metadata": {},
   "outputs": [
    {
     "data": {
      "image/png": "[encoded data removed]",
      "text/plain": [
       "<Figure size 700x500 with 1 Axes>"
      ]
     },
     "metadata": {},
     "output_type": "display_data"
    }
   ],
   "source": [
    "from sklearn.metrics import roc_curve, auc\n",
    "from numpy import interp\n",
    "\n",
    "\n",
    "pipe_lr = make_pipeline(StandardScaler(),\n",
    "                        PCA(n_components=2),\n",
    "                        LogisticRegression(penalty='l2', \n",
    "                                           random_state=1,\n",
    "                                           solver='lbfgs',\n",
    "                                           C=100.0))\n",
    "\n",
    "# only using 2 features from the dataset\n",
    "X_train2 = X_train[:, [4, 14]]\n",
    "    \n",
    "# using 3 fold cv\n",
    "cv = list(StratifiedKFold(n_splits=3).split(X_train, y_train))\n",
    "\n",
    "fig = plt.figure(figsize=(7, 5))\n",
    "\n",
    "mean_tpr = 0.0\n",
    "mean_fpr = np.linspace(0, 1, 100)\n",
    "all_tpr = []\n",
    "\n",
    "for i, (train, test) in enumerate(cv):\n",
    "    probas = pipe_lr.fit(X_train2[train],\n",
    "                         y_train[train]).predict_proba(X_train2[test])\n",
    "\n",
    "    fpr, tpr, thresholds = roc_curve(y_train[test],\n",
    "                                     probas[:, 1],\n",
    "                                     pos_label=1)\n",
    "    mean_tpr += interp(mean_fpr, fpr, tpr)\n",
    "    mean_tpr[0] = 0.0\n",
    "    roc_auc = auc(fpr, tpr)\n",
    "    plt.plot(fpr,\n",
    "             tpr,\n",
    "             label=f'ROC fold {i+1} (area = {roc_auc:.2f})')\n",
    "\n",
    "plt.plot([0, 1],\n",
    "         [0, 1],\n",
    "         linestyle='--',\n",
    "         color=(0.6, 0.6, 0.6),\n",
    "         label='Random guessing (area = 0.5)')\n",
    "\n",
    "mean_tpr /= len(cv)\n",
    "mean_tpr[-1] = 1.0\n",
    "mean_auc = auc(mean_fpr, mean_tpr)\n",
    "plt.plot(mean_fpr, mean_tpr, 'k--',\n",
    "         label=f'Mean ROC (area = {mean_auc:.2f})', lw=2)\n",
    "plt.plot([0, 0, 1],\n",
    "         [0, 1, 1],\n",
    "         linestyle=':',\n",
    "         color='black',\n",
    "         label='Perfect performance (area = 1.0)')\n",
    "\n",
    "plt.xlim([-0.05, 1.05])\n",
    "plt.ylim([-0.05, 1.05])\n",
    "plt.xlabel('False positive rate')\n",
    "plt.ylabel('True positive rate')\n",
    "plt.legend(loc='lower right')\n",
    "\n",
    "plt.tight_layout()\n",
    "plt.show();"
   ]
  },
  {
   "cell_type": "markdown",
   "id": "5ef02d0b-f20e-479c-90fd-232608d7185b",
   "metadata": {},
   "source": [
    "### The scoring metrics for multiclass classification"
   ]
  },
  {
   "cell_type": "code",
   "execution_count": 44,
   "id": "7af607b1-c103-4f34-9bbd-32921818d3bd",
   "metadata": {},
   "outputs": [],
   "source": [
    "pre_scorer = make_scorer(score_func=precision_score, \n",
    "                         pos_label=1, \n",
    "                         greater_is_better=True, \n",
    "                         average='micro')"
   ]
  },
  {
   "cell_type": "markdown",
   "id": "f0bf11ba-d34d-4f2a-a13f-fdc888c1a4f8",
   "metadata": {},
   "source": [
    "## Dealing with class imbalance\n",
    "\n",
    "For instance, our priority might be to identify the majority of patients with malignant cancer to recommend an additional screening, so recall should be our metric of choice. In spam filtering, where we don’t want to label emails as spam if the system is not very certain, precision might be a more appropriate metric.\n",
    "\n",
    "\n",
    "One way to deal with imbalanced class proportions during model fitting is to assign a larger penalty to wrong predictions on the minority class. Via scikit-learn, adjusting such a penalty is as convenient as setting the ```class_weight``` parameter to ```class_weight='balanced'```, which is implemented for most classifiers.\n",
    "\n",
    "\n",
    "Other popular strategies for dealing with class imbalance include upsampling the minority class, downsampling the majority class, and the generation of synthetic training examples."
   ]
  },
  {
   "cell_type": "code",
   "execution_count": 45,
   "id": "938ebbe0-8710-4f43-b311-bc45700981d1",
   "metadata": {},
   "outputs": [],
   "source": [
    "# creating an unbalanced data from orginal dataset,\n",
    "# where 90% of the data belongs to class 0(B benign tumors)\n",
    "\n",
    "# So, if calculate the accuracy of a model, we would achieve a prediction\n",
    "# accuracy of close to 90%, which would mean our model hasn’t learned \n",
    "# anything useful from the features provided in this dataset.\n",
    "\n",
    "\n",
    "X_imb = np.vstack((X[y == 0], X[y == 1][:40]))\n",
    "y_imb = np.hstack((y[y == 0], y[y == 1][:40]))"
   ]
  },
  {
   "cell_type": "code",
   "execution_count": 46,
   "id": "e339fedb-3a38-419d-9a35-dd5aeb4094ae",
   "metadata": {},
   "outputs": [
    {
     "data": {
      "text/plain": [
       "89.92443324937027"
      ]
     },
     "execution_count": 46,
     "metadata": {},
     "output_type": "execute_result"
    }
   ],
   "source": [
    "# prediction\n",
    "y_pred = np.zeros(y_imb.shape[0])\n",
    "np.mean(y_pred == y_imb) * 100"
   ]
  },
  {
   "cell_type": "code",
   "execution_count": 47,
   "id": "24a6a964-c8cc-415d-970e-991ec03a2896",
   "metadata": {},
   "outputs": [
    {
     "name": "stdout",
     "output_type": "stream",
     "text": [
      "Number of class 1 examples before: 40\n",
      "Number of class 1 examples after: 357\n"
     ]
    }
   ],
   "source": [
    "# Upsampling\n",
    "\n",
    "from sklearn.utils import resample\n",
    "\n",
    "print('Number of class 1 examples before:', X_imb[y_imb == 1].shape[0])\n",
    "\n",
    "X_upsampled, y_upsampled = resample(X_imb[y_imb == 1],\n",
    "                                    y_imb[y_imb == 1],\n",
    "                                    replace=True,\n",
    "                                    n_samples=X_imb[y_imb == 0].shape[0],\n",
    "                                    random_state=123)\n",
    "\n",
    "print('Number of class 1 examples after:', X_upsampled.shape[0])"
   ]
  },
  {
   "cell_type": "code",
   "execution_count": 48,
   "id": "eb2af545-229f-4f53-a350-79812e6a867e",
   "metadata": {},
   "outputs": [
    {
     "data": {
      "text/plain": [
       "50.0"
      ]
     },
     "execution_count": 48,
     "metadata": {},
     "output_type": "execute_result"
    }
   ],
   "source": [
    "# balanced data\n",
    "X_bal = np.vstack((X[y == 0], X_upsampled))\n",
    "y_bal = np.hstack((y[y == 0], y_upsampled))\n",
    "\n",
    "# prediction on balanced data\n",
    "y_pred = np.zeros(y_bal.shape[0])\n",
    "np.mean(y_pred == y_bal) * 100"
   ]
  },
  {
   "cell_type": "markdown",
   "id": "b6ffe27e-6613-452b-8d04-ad0dc3ac18f5",
   "metadata": {},
   "source": [
    "Another technique to generate new training data to address class imbalance:\n",
    "**SMOTE(Synthetic Minority Oversampling Technique)**"
   ]
  },
  {
   "cell_type": "markdown",
   "id": "8c6d547b-74eb-4bad-b9ac-2c6f4aeb12eb",
   "metadata": {},
   "source": [
    "## Summary\n",
    "\n",
    "- **Pipeline:** to chain different transformation techniques and classifiers that help us to train and evaluate machine learning models more efficiently. \n",
    "\n",
    "- **k-fold cross-validation, for model selection and evaluation.** \n",
    "- Using k-fold cross-validation, we plot learning and validation curves to overcome overfitting and underfitting. \n",
    "\n",
    "- Using grid search, randomized search, and successive halving -- fine-tuned our model. \n",
    "\n",
    "- confusion matrices and various performance metrics(precision, recall, f1-score, roc_auc_score) to evaluate and optimize a model’s performance for specific problem tasks. \n",
    "\n",
    "- dealing with imbalanced data\n",
    "\n",
    "Now, you should be well equipped with the essential techniques to build supervised machine learning models for classification successfully."
   ]
  },
  {
   "cell_type": "markdown",
   "id": "5627b3f2-91fb-4645-aae1-b2c5bdaf2997",
   "metadata": {},
   "source": [
    "***Reference:***\n",
    "\n",
    "***Raschka, Sebastian; Liu, Yuxi (Hayden); Mirjalili, Vahid. Machine Learning with PyTorch and Scikit-Learn: Develop machine learning and deep learning models with Python. Packt Publishing.*** "
   ]
  }
 ],
 "metadata": {
  "kernelspec": {
   "display_name": "Python 3 (ipykernel)",
   "language": "python",
   "name": "python3"
  },
  "language_info": {
   "codemirror_mode": {
    "name": "ipython",
    "version": 3
   },
   "file_extension": ".py",
   "mimetype": "text/x-python",
   "name": "python",
   "nbconvert_exporter": "python",
   "pygments_lexer": "ipython3",
   "version": "3.9.16"
  },
  "widgets": {
   "application/vnd.jupyter.widget-state+json": {
    "state": {},
    "version_major": 2,
    "version_minor": 0
   }
  }
 },
 "nbformat": 4,
 "nbformat_minor": 5
}
