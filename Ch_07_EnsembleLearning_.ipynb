{
 "cells": [
  {
   "cell_type": "markdown",
   "id": "186ff6e4-d3d2-4e0e-8457-9f6de42fb2d5",
   "metadata": {},
   "source": [
    "***Reference:***\n",
    "\n",
    "***Raschka, Sebastian; Liu, Yuxi (Hayden); Mirjalili, Vahid. Machine Learning with PyTorch and Scikit-Learn: Develop machine learning and deep learning models with Python. Packt Publishing.*** "
   ]
  },
  {
   "cell_type": "markdown",
   "id": "3e7bbc95-dc31-442d-97de-b95ef2f046fd",
   "metadata": {},
   "source": [
    "# ***<u>Chapter 7</u> - Combining Different Models for Ensemble Learning***"
   ]
  },
  {
   "cell_type": "markdown",
   "id": "5aaa9f88-19a5-48d8-98df-7711ca487fd6",
   "metadata": {
    "jp-MarkdownHeadingCollapsed": true,
    "tags": []
   },
   "source": [
    "## Learning with ensembles"
   ]
  },
  {
   "cell_type": "markdown",
   "id": "3004f548-08f0-4068-8162-bfe946214b7d",
   "metadata": {},
   "source": [
    "- The goal of **ensemble methods** is to combine different classifiers into a meta-classifier that has better generalization performance than each individual classifier alone. Ensembles are typically recognized for yielding a good generalization performance. \n",
    "\n",
    "- **Majority Voting Principle:** Majority voting simply means that we select the class label that has been predicted by the majority of classifiers, that is, received more than 50 percent of the votes. Strictly speaking, the term “majority vote” refers to binary class settings only. However, it is easy to generalize the majority voting principle to multiclass settings, which is known as **plurality voting**.\n",
    "\n",
    "<div>\n",
    "<img src=\"Images/voting.png\" width=\"400px\"/>\n",
    "</div>\n",
    "\n",
    "- Using the training dataset, we start by training m different classifiers $(C_1, \\cdots, C_m)$. Depending on the technique, the ensemble can be built from different classification algorithms, for example, decision trees, support vector machines, logistic regression classifiers, and so on. \n",
    "\n",
    "- Alternatively, we can also use the same base classification algorithm, fitting different subsets of the training dataset. One prominent example of this approach is the random forest algorithm combining different decision tree classifiers.\n",
    "\n",
    "<div>\n",
    "<img src=\"Images/ensemble.png\" width=\"340px\"/>\n",
    "</div>\n",
    "\n",
    "- To predict a class label via majority or plurality voting, we combine the predicted class labels of each individual classifiers, $C_j$, and select the class label, $\\hat{y}$, that received the most votes:\n",
    "\n",
    "$$\\hat{y} = \\text{mode}\\{C_1(x), C_2(x), \\cdots, C_m(x)\\}$$"
   ]
  },
  {
   "cell_type": "markdown",
   "id": "45bf79c8-bea0-41d8-8aab-b04abff5a603",
   "metadata": {
    "jp-MarkdownHeadingCollapsed": true,
    "tags": []
   },
   "source": [
    "## Implementing a simple majority vote classifier"
   ]
  },
  {
   "cell_type": "markdown",
   "id": "04984751-b235-4628-8b60-965f01dd652d",
   "metadata": {},
   "source": [
    "Our goal is to build a stronger meta-classifier that balances out the individual classifiers’ weaknesses on a particular dataset. \n",
    "In mathematical terms, we can write the weighted majority vote as follows:\n",
    "\n",
    "$$\\hat{y} = \\arg \\max_{i}\\sum_{j=1}^{m}w_j\\chi_{A}(C_l(x) = i)$$\n",
    "\n",
    "Here, \n",
    "   - $w_j$ is a weight associated with a base classifier, $C_j$;  \n",
    "   - $\\hat{y}$ is the predicted class label of the ensemble; \n",
    "   - $A$ is the set of unique class labels;  \n",
    "   - $\\chi_{A}$ is the characteristic function or indicator function, which returns 1 if the predicted class of the *jth* classifier matches ***i*** $(C_j(x) = i)$. \n",
    "   \n",
    "For equal weights, we can simplify this equation and write it as follows:\n",
    "\n",
    "$$\\hat{y} = \\text{mode}\\{C_1(x), C_2(x), \\cdots, C_m(x)\\}$$"
   ]
  },
  {
   "cell_type": "markdown",
   "id": "f18d24bc-a5de-4f2e-9352-eface8cc3df8",
   "metadata": {},
   "source": [
    "Let's assume we have 3 base classifiers, $C_j (j \\in \\{1,2,3\\})$ and want to predict the class label, $C_j(x) \\in {0,1}$, for a given example, $x$. There prediction are as $$C_1(x) \\rightarrow 0, C_2(x) \\rightarrow 0, C_3(x) \\rightarrow 1$$ \n",
    "\n",
    "In case of equal weigths for the classifier, the prediction is $$\\hat{y} = \\text{mode}\\{0,0,1\\} = 0$$\n",
    "\n",
    "Now, let's assign weights of $0.6$ to $C_3$, and $0.2$ to $C_1$ & $C_2$:\n",
    "\n",
    "$$\\hat{y} = \\arg \\max_{i}\\sum_{j=1}^{m}w_j\\chi_{A}(C_l(x) = i)\\\\\n",
    "          = \\arg \\max_{i}[0.2 \\times i_0 + 0.2 \\times i_0, 0.6 \\times i_1] = 1$$\n",
    "          \n",
    "More simply the prediction made by $C_3$ has $3$ times more weight that taht of $C_1$ or $C_2$, which can be written as:\n",
    "\n",
    "$$\\hat{y} = \\text{mode}\\{0,0,1,1,1\\} = 1$$\n",
    "\n",
    "Below is the code for it:"
   ]
  },
  {
   "cell_type": "code",
   "execution_count": 1,
   "id": "8a6c7faa-e079-4508-aa8d-f7c08c60891b",
   "metadata": {},
   "outputs": [
    {
     "data": {
      "text/plain": [
       "1"
      ]
     },
     "execution_count": 1,
     "metadata": {},
     "output_type": "execute_result"
    }
   ],
   "source": [
    "import numpy as np\n",
    "\n",
    "np.argmax(np.bincount([0, 0, 1], \n",
    "                      weights=[0.2, 0.2, 0.6]))"
   ]
  },
  {
   "cell_type": "markdown",
   "id": "a8d16e82-9e0e-4e51-9897-2e444aabbded",
   "metadata": {},
   "source": [
    "Using the predicted class probabilities instead of the class labels for majority voting can be useful if the classifiers in our ensemble are well calibrated. The modified version of the majority vote for predicting class labels from probabilities can be written as follows:\n",
    "\n",
    "$$\\hat{y} = \\arg \\max_i \\sum_{j=1}^{m}w_jp_{ij}$$\n",
    "\n",
    "***Here, $\\textbf{p}_{ij}$ is the predicted prob. of the $jth$ classifier for class label $i$.***\n",
    "\n",
    "\n",
    "Continuing the previous example, let classifier $C_j$ return following class probabilities for class labels $i \\in \\{0,1\\}$ for a particular example, $x$:\n",
    "\n",
    "$$C_1(x) \\rightarrow [0.9,0.1], C_2(x) \\rightarrow [0.8,0.2], C_3(x) \\rightarrow [0.4,0.6]$$\n",
    "\n",
    "Using the same weights as previously $(0.2, 0.2, and 0.6)$, the individual class probabilities  are as follows:\n",
    "\n",
    "$$p(i_0|\\textbf{x}) = 0.2 \\times [0.9 + 0.8] + 0.6 \\times 0.4 = 0.58$$\n",
    "$$p(i_1|\\textbf{x}) = 0.2 \\times [0.1 + 0.2] + 0.6 \\times 0.6 = 0.42$$\n",
    "$$\\hat{y} = \\arg \\max_i[p(i_0|\\textbf{x}), p(i_1|\\textbf{x})] = 0$$\n",
    "\n",
    "Below is the code for that:"
   ]
  },
  {
   "cell_type": "code",
   "execution_count": 2,
   "id": "feba3d8d-f6fc-469a-ba28-7bd30e12a63c",
   "metadata": {},
   "outputs": [
    {
     "name": "stdout",
     "output_type": "stream",
     "text": [
      "[0.58 0.42]\n",
      "0\n"
     ]
    }
   ],
   "source": [
    "ex = np.array([[0.9, 0.1],\n",
    "               [0.8, 0.2],\n",
    "               [0.4, 0.6]])\n",
    "\n",
    "p = np.average(ex, \n",
    "               axis=0, \n",
    "               weights=[0.2, 0.2, 0.6])\n",
    "\n",
    "print(p)\n",
    "print(np.argmax(p))"
   ]
  },
  {
   "cell_type": "markdown",
   "id": "c30e0e57-0a00-4278-800a-100ce6287082",
   "metadata": {},
   "source": [
    "### Implementing ```MajorityVoteClassifier```"
   ]
  },
  {
   "cell_type": "code",
   "execution_count": 3,
   "id": "ca70de7d-9110-4b69-8ce7-95cd48603f4a",
   "metadata": {},
   "outputs": [],
   "source": [
    "from sklearn.base import BaseEstimator\n",
    "from sklearn.base import ClassifierMixin\n",
    "from sklearn.preprocessing import LabelEncoder\n",
    "from sklearn.base import clone\n",
    "from sklearn.pipeline import _name_estimators\n",
    "import numpy as np\n",
    "import operator\n",
    "\n",
    "\n",
    "class MajorityVoteClassifier(BaseEstimator, \n",
    "                             ClassifierMixin):\n",
    "    \"\"\" A majority vote ensemble classifier\n",
    "\n",
    "    Parameters\n",
    "    ----------\n",
    "    classifiers : array-like, shape = [n_classifiers]\n",
    "      Different classifiers for the ensemble\n",
    "\n",
    "    vote : str, {'classlabel', 'probability'} (default='classlabel')\n",
    "      If 'classlabel' the prediction is based on the argmax of\n",
    "        class labels. Else if 'probability', the argmax of\n",
    "        the sum of probabilities is used to predict the class label\n",
    "        (recommended for calibrated classifiers).\n",
    "\n",
    "    weights : array-like, shape = [n_classifiers], optional (default=None)\n",
    "      If a list of `int` or `float` values are provided, the classifiers\n",
    "      are weighted by importance; Uses uniform weights if `weights=None`.\n",
    "\n",
    "    \"\"\"\n",
    "    def __init__(self, classifiers, vote='classlabel', weights=None):\n",
    "\n",
    "        self.classifiers = classifiers\n",
    "        self.named_classifiers = {key: value for key, value\n",
    "                                  in _name_estimators(classifiers)}\n",
    "        self.vote = vote\n",
    "        self.weights = weights\n",
    "\n",
    "    def fit(self, X, y):\n",
    "        \"\"\" Fit classifiers.\n",
    "\n",
    "        Parameters\n",
    "        ----------\n",
    "        X : {array-like, sparse matrix}, shape = [n_examples, n_features]\n",
    "            Matrix of training examples.\n",
    "\n",
    "        y : array-like, shape = [n_examples]\n",
    "            Vector of target class labels.\n",
    "\n",
    "        Returns\n",
    "        -------\n",
    "        self : object\n",
    "\n",
    "        \"\"\"\n",
    "        if self.vote not in ('probability', 'classlabel'):\n",
    "            raise ValueError(f\"vote must be 'probability' or 'classlabel'\"\n",
    "                             f\"; got (vote={self.vote})\")\n",
    "\n",
    "        if self.weights and len(self.weights) != len(self.classifiers):\n",
    "            raise ValueError(f'Number of classifiers and weights must be equal'\n",
    "                             f'; got {len(self.weights)} weights,'\n",
    "                             f' {len(self.classifiers)} classifiers')\n",
    "\n",
    "        # Use LabelEncoder to ensure class labels start with 0, which\n",
    "        # is important for np.argmax call in self.predict\n",
    "        self.lablenc_ = LabelEncoder()\n",
    "        self.lablenc_.fit(y)\n",
    "        self.classes_ = self.lablenc_.classes_\n",
    "        self.classifiers_ = []\n",
    "        for clf in self.classifiers:\n",
    "            fitted_clf = clone(clf).fit(X, self.lablenc_.transform(y))\n",
    "            self.classifiers_.append(fitted_clf)\n",
    "        return self\n",
    "\n",
    "    def predict(self, X):\n",
    "        \"\"\" Predict class labels for X.\n",
    "\n",
    "        Parameters\n",
    "        ----------\n",
    "        X : {array-like, sparse matrix}, shape = [n_examples, n_features]\n",
    "            Matrix of training examples.\n",
    "\n",
    "        Returns\n",
    "        ----------\n",
    "        maj_vote : array-like, shape = [n_examples]\n",
    "            Predicted class labels.\n",
    "            \n",
    "        \"\"\"\n",
    "        if self.vote == 'probability':\n",
    "            maj_vote = np.argmax(self.predict_proba(X), axis=1)\n",
    "        else:  # 'classlabel' vote\n",
    "\n",
    "            #  Collect results from clf.predict calls\n",
    "            predictions = np.asarray([clf.predict(X)\n",
    "                                      for clf in self.classifiers_]).T\n",
    "\n",
    "            maj_vote = np.apply_along_axis(\n",
    "                                      lambda x:\n",
    "                                      np.argmax(np.bincount(x,\n",
    "                                                weights=self.weights)),\n",
    "                                      axis=1,\n",
    "                                      arr=predictions)\n",
    "        maj_vote = self.lablenc_.inverse_transform(maj_vote)\n",
    "        return maj_vote\n",
    "\n",
    "    def predict_proba(self, X):\n",
    "        \"\"\" Predict class probabilities for X.\n",
    "\n",
    "        Parameters\n",
    "        ----------\n",
    "        X : {array-like, sparse matrix}, shape = [n_examples, n_features]\n",
    "            Training vectors, where n_examples is the number of examples and\n",
    "            n_features is the number of features.\n",
    "\n",
    "        Returns\n",
    "        ----------\n",
    "        avg_proba : array-like, shape = [n_examples, n_classes]\n",
    "            Weighted average probability for each class per example.\n",
    "\n",
    "        \"\"\"\n",
    "        probas = np.asarray([clf.predict_proba(X)\n",
    "                             for clf in self.classifiers_])\n",
    "        avg_proba = np.average(probas, axis=0, weights=self.weights)\n",
    "        return avg_proba\n",
    "\n",
    "    def get_params(self, deep=True):\n",
    "        \"\"\" Get classifier parameter names for GridSearch\"\"\"\n",
    "        if not deep:\n",
    "            return super().get_params(deep=False)\n",
    "        else:\n",
    "            out = self.named_classifiers.copy()\n",
    "            for name, step in self.named_classifiers.items():\n",
    "                for key, value in step.get_params(deep=True).items():\n",
    "                    out[f'{name}__{key}'] = value\n",
    "            return out"
   ]
  },
  {
   "cell_type": "markdown",
   "id": "9159edd9-5bda-4dac-a70b-a017cd9f3794",
   "metadata": {},
   "source": [
    "We used the ```BaseEstimator``` and ```ClassifierMixin``` parent classes to get some base functionality for free, including the ```get_params``` and ```set_params``` methods to set and return the classifier’s parameters, as well as the score method to calculate the prediction accuracy. \n",
    "\n",
    "\n",
    "Next, we will add the ```predict``` method to predict the class label via a majority vote based on the class labels if we initialize a new ```MajorityVoteClassifier``` object with ```vote='classlabel'```. Alternatively, we will be able to initialize the ensemble classifier with ```vote='probability'``` to predict the class label based on the class membership probabilities. Furthermore, we will also add a ```predict_proba``` method to return the averaged probabilities, which is useful when computing the **receiver operating characteristic area under the curve (ROC AUC).**\n",
    "\n",
    "\n",
    "Also, note that we defined our own modified version of the ```get_params``` method to use the ```_name_estimators``` function to access the parameters of individual classifiers in the ensemble."
   ]
  },
  {
   "cell_type": "markdown",
   "id": "fb9eb8a6-aade-44f4-a998-b4860cdb4984",
   "metadata": {},
   "source": [
    "### Using the majority voting principle to make predictions"
   ]
  },
  {
   "cell_type": "code",
   "execution_count": 4,
   "id": "fe570a35-d418-43a6-980e-f55e5d847198",
   "metadata": {},
   "outputs": [],
   "source": [
    "from sklearn import datasets\n",
    "from sklearn.preprocessing import StandardScaler\n",
    "from sklearn.preprocessing import LabelEncoder\n",
    "from sklearn.model_selection import train_test_split\n",
    "\n",
    "\n",
    "iris = datasets.load_iris()\n",
    "X, y = iris.data[50:, [1, 2]], iris.target[50:]\n",
    "le = LabelEncoder()\n",
    "y = le.fit_transform(y)\n",
    "\n",
    "X_train, X_test, y_train, y_test =\\\n",
    "       train_test_split(X, y, \n",
    "                        test_size=0.5, \n",
    "                        random_state=1,\n",
    "                        stratify=y)"
   ]
  },
  {
   "cell_type": "code",
   "execution_count": 5,
   "id": "9da522b9-107d-44d3-bdf6-4e482cfa3b17",
   "metadata": {},
   "outputs": [
    {
     "name": "stdout",
     "output_type": "stream",
     "text": [
      "10-fold cross validation:\n",
      "\n",
      "ROC AUC: 0.92 (+/- 0.15) [Logistic regression]\n",
      "ROC AUC: 0.87 (+/- 0.18) [Decision tree]\n",
      "ROC AUC: 0.85 (+/- 0.13) [KNN]\n"
     ]
    }
   ],
   "source": [
    "import numpy as np\n",
    "from sklearn.linear_model import LogisticRegression\n",
    "from sklearn.tree import DecisionTreeClassifier\n",
    "from sklearn.neighbors import KNeighborsClassifier \n",
    "from sklearn.pipeline import Pipeline\n",
    "from sklearn.model_selection import cross_val_score\n",
    "\n",
    "\n",
    "clf1 = LogisticRegression(penalty='l2', \n",
    "                          C=0.001,\n",
    "                          solver='lbfgs',\n",
    "                          random_state=1)\n",
    "\n",
    "clf2 = DecisionTreeClassifier(max_depth=1,\n",
    "                              criterion='entropy',\n",
    "                              random_state=0)\n",
    "\n",
    "clf3 = KNeighborsClassifier(n_neighbors=1,\n",
    "                            p=2,\n",
    "                            metric='minkowski')\n",
    "\n",
    "pipe1 = Pipeline([['sc', StandardScaler()],\n",
    "                  ['clf', clf1]])\n",
    "\n",
    "pipe3 = Pipeline([['sc', StandardScaler()],\n",
    "                  ['clf', clf3]])\n",
    "\n",
    "clf_labels = ['Logistic regression', 'Decision tree', 'KNN']\n",
    "\n",
    "print('10-fold cross validation:\\n')\n",
    "\n",
    "for clf, label in zip([pipe1, clf2, pipe3], clf_labels):\n",
    "    scores = cross_val_score(estimator=clf,\n",
    "                             X=X_train,\n",
    "                             y=y_train,\n",
    "                             cv=10,\n",
    "                             scoring='roc_auc')\n",
    "    \n",
    "    print(f'ROC AUC: {scores.mean():.2f} '\n",
    "          f'(+/- {scores.std():.2f}) [{label}]')"
   ]
  },
  {
   "cell_type": "code",
   "execution_count": 6,
   "id": "bbf17f6a-d4e7-4f9d-b30f-7b6053001da2",
   "metadata": {},
   "outputs": [
    {
     "name": "stdout",
     "output_type": "stream",
     "text": [
      "ROC AUC: 0.92 (+/- 0.15) [Logistic regression]\n",
      "ROC AUC: 0.87 (+/- 0.18) [Decision tree]\n",
      "ROC AUC: 0.85 (+/- 0.13) [KNN]\n",
      "ROC AUC: 0.98 (+/- 0.05) [Majority voting]\n"
     ]
    }
   ],
   "source": [
    "# Majority Rule (hard) Voting\n",
    "\n",
    "mv_clf = MajorityVoteClassifier(classifiers=[pipe1, clf2, pipe3])\n",
    "\n",
    "clf_labels += ['Majority voting']\n",
    "all_clf = [pipe1, clf2, pipe3, mv_clf]\n",
    "\n",
    "for clf, label in zip(all_clf, clf_labels):\n",
    "    scores = cross_val_score(estimator=clf,\n",
    "                             X=X_train,\n",
    "                             y=y_train,\n",
    "                             cv=10,\n",
    "                             scoring='roc_auc')\n",
    "    print(f'ROC AUC: {scores.mean():.2f} '\n",
    "          f'(+/- {scores.std():.2f}) [{label}]')"
   ]
  },
  {
   "cell_type": "markdown",
   "id": "d2eb6db6-53cd-4fdf-bdd9-c2f3c5bae0fc",
   "metadata": {
    "tags": []
   },
   "source": [
    "## Evaluating and tuning the ensemble classifier"
   ]
  },
  {
   "cell_type": "code",
   "execution_count": 7,
   "id": "8604f29f-fc8f-47d6-8333-69477fb5b923",
   "metadata": {},
   "outputs": [
    {
     "data": {
      "image/png": "[encoded data removed]",
      "text/plain": [
       "<Figure size 640x480 with 1 Axes>"
      ]
     },
     "metadata": {},
     "output_type": "display_data"
    }
   ],
   "source": [
    "import matplotlib.pyplot as plt\n",
    "from sklearn.metrics import roc_curve\n",
    "from sklearn.metrics import auc\n",
    "\n",
    "\n",
    "colors = ['black', 'orange', 'blue', 'green']\n",
    "linestyles = [':', '--', '-.', '-']\n",
    "for clf, label, clr, ls \\\n",
    "        in zip(all_clf,\n",
    "               clf_labels, colors, linestyles):\n",
    "\n",
    "    # assuming the label of the positive class is 1\n",
    "    y_pred = clf.fit(X_train,\n",
    "                     y_train).predict_proba(X_test)[:, 1]\n",
    "    fpr, tpr, thresholds = roc_curve(y_true=y_test,\n",
    "                                     y_score=y_pred)\n",
    "    roc_auc = auc(x=fpr, y=tpr)\n",
    "    plt.plot(fpr, tpr,\n",
    "             color=clr,\n",
    "             linestyle=ls,\n",
    "             label=f'{label} (auc = {roc_auc:.2f})')\n",
    "\n",
    "plt.legend(loc='lower right')\n",
    "plt.plot([0, 1], [0, 1],\n",
    "         linestyle='--',\n",
    "         color='gray',\n",
    "         linewidth=2)\n",
    "\n",
    "plt.xlim([-0.1, 1.1])\n",
    "plt.ylim([-0.1, 1.1])\n",
    "plt.grid(alpha=0.5)\n",
    "plt.xlabel('False positive rate (FPR)')\n",
    "plt.ylabel('True positive rate (TPR)')\n",
    "\n",
    "\n",
    "plt.show();"
   ]
  },
  {
   "cell_type": "markdown",
   "id": "eecf2286-52fe-4241-94e4-7b617760ecfc",
   "metadata": {},
   "source": [
    "In the resulting ROC, the ensemble classifier also performs well on the test dataset (ROC AUC = 0.95). However, the logistic regression classifier performs similarly well on the same dataset, which is probably due to the high variance (in this case, the sensitivity of how we split the dataset) given the small size of the dataset."
   ]
  },
  {
   "cell_type": "code",
   "execution_count": 8,
   "id": "cb4e63b5-35ec-4299-a1a1-4df54867b3e0",
   "metadata": {},
   "outputs": [],
   "source": [
    "sc = StandardScaler()\n",
    "X_train_std = sc.fit_transform(X_train)"
   ]
  },
  {
   "cell_type": "code",
   "execution_count": 9,
   "id": "1cf2f7e3-46d4-402d-b2b8-b8404b4ef941",
   "metadata": {},
   "outputs": [
    {
     "data": {
      "image/png": "[encoded data removed]",
      "text/plain": [
       "<Figure size 700x500 with 4 Axes>"
      ]
     },
     "metadata": {},
     "output_type": "display_data"
    }
   ],
   "source": [
    "from itertools import product\n",
    "\n",
    "\n",
    "all_clf = [pipe1, clf2, pipe3, mv_clf]\n",
    "\n",
    "x_min = X_train_std[:, 0].min() - 1\n",
    "x_max = X_train_std[:, 0].max() + 1\n",
    "y_min = X_train_std[:, 1].min() - 1\n",
    "y_max = X_train_std[:, 1].max() + 1\n",
    "\n",
    "xx, yy = np.meshgrid(np.arange(x_min, x_max, 0.1),\n",
    "                     np.arange(y_min, y_max, 0.1))\n",
    "\n",
    "f, axarr = plt.subplots(nrows=2, ncols=2, \n",
    "                        sharex='col', \n",
    "                        sharey='row', \n",
    "                        figsize=(7, 5))\n",
    "\n",
    "for idx, clf, tt in zip(product([0, 1], [0, 1]),\n",
    "                        all_clf, clf_labels):\n",
    "    clf.fit(X_train_std, y_train)\n",
    "    \n",
    "    Z = clf.predict(np.c_[xx.ravel(), yy.ravel()])\n",
    "    Z = Z.reshape(xx.shape)\n",
    "\n",
    "    axarr[idx[0], idx[1]].contourf(xx, yy, Z, alpha=0.3)\n",
    "    \n",
    "    axarr[idx[0], idx[1]].scatter(X_train_std[y_train==0, 0], \n",
    "                                  X_train_std[y_train==0, 1], \n",
    "                                  c='blue', \n",
    "                                  marker='^',\n",
    "                                  s=50)\n",
    "    \n",
    "    axarr[idx[0], idx[1]].scatter(X_train_std[y_train==1, 0], \n",
    "                                  X_train_std[y_train==1, 1], \n",
    "                                  c='green', \n",
    "                                  marker='o',\n",
    "                                  s=50)\n",
    "    \n",
    "    axarr[idx[0], idx[1]].set_title(tt)\n",
    "\n",
    "plt.text(-3.5, -5., \n",
    "         s='Sepal width [standardized]', \n",
    "         ha='center', va='center', fontsize=12)\n",
    "plt.text(-12.5, 4.5, \n",
    "         s='Petal length [standardized]', \n",
    "         ha='center', va='center', \n",
    "         fontsize=12, rotation=90)\n",
    "\n",
    "plt.show();"
   ]
  },
  {
   "cell_type": "markdown",
   "id": "16479d45-87dd-4278-8719-62f31d983d7b",
   "metadata": {},
   "source": [
    "The decision regions of the ensemble classifier seem to be a hybrid of the decision regions from the individual classifiers. At first glance, the majority vote decision boundary looks a lot like the decision of the decision tree stump, which is orthogonal to the y axis for sepal width ≥ 1. However, the nonlinearity from the k-nearest neighbor classifier is also mixed in."
   ]
  },
  {
   "cell_type": "code",
   "execution_count": 10,
   "id": "102af697-6907-485e-93cb-db0b39269011",
   "metadata": {
    "scrolled": true,
    "tags": []
   },
   "outputs": [
    {
     "data": {
      "text/plain": [
       "{'pipeline-1': Pipeline(steps=[('sc', StandardScaler()),\n",
       "                 ['clf', LogisticRegression(C=0.001, random_state=1)]]),\n",
       " 'decisiontreeclassifier': DecisionTreeClassifier(criterion='entropy', max_depth=1, random_state=0),\n",
       " 'pipeline-2': Pipeline(steps=[('sc', StandardScaler()),\n",
       "                 ['clf', KNeighborsClassifier(n_neighbors=1)]]),\n",
       " 'pipeline-1__memory': None,\n",
       " 'pipeline-1__steps': [('sc', StandardScaler()),\n",
       "  ['clf', LogisticRegression(C=0.001, random_state=1)]],\n",
       " 'pipeline-1__verbose': False,\n",
       " 'pipeline-1__sc': StandardScaler(),\n",
       " 'pipeline-1__clf': LogisticRegression(C=0.001, random_state=1),\n",
       " 'pipeline-1__sc__copy': True,\n",
       " 'pipeline-1__sc__with_mean': True,\n",
       " 'pipeline-1__sc__with_std': True,\n",
       " 'pipeline-1__clf__C': 0.001,\n",
       " 'pipeline-1__clf__class_weight': None,\n",
       " 'pipeline-1__clf__dual': False,\n",
       " 'pipeline-1__clf__fit_intercept': True,\n",
       " 'pipeline-1__clf__intercept_scaling': 1,\n",
       " 'pipeline-1__clf__l1_ratio': None,\n",
       " 'pipeline-1__clf__max_iter': 100,\n",
       " 'pipeline-1__clf__multi_class': 'auto',\n",
       " 'pipeline-1__clf__n_jobs': None,\n",
       " 'pipeline-1__clf__penalty': 'l2',\n",
       " 'pipeline-1__clf__random_state': 1,\n",
       " 'pipeline-1__clf__solver': 'lbfgs',\n",
       " 'pipeline-1__clf__tol': 0.0001,\n",
       " 'pipeline-1__clf__verbose': 0,\n",
       " 'pipeline-1__clf__warm_start': False,\n",
       " 'decisiontreeclassifier__ccp_alpha': 0.0,\n",
       " 'decisiontreeclassifier__class_weight': None,\n",
       " 'decisiontreeclassifier__criterion': 'entropy',\n",
       " 'decisiontreeclassifier__max_depth': 1,\n",
       " 'decisiontreeclassifier__max_features': None,\n",
       " 'decisiontreeclassifier__max_leaf_nodes': None,\n",
       " 'decisiontreeclassifier__min_impurity_decrease': 0.0,\n",
       " 'decisiontreeclassifier__min_samples_leaf': 1,\n",
       " 'decisiontreeclassifier__min_samples_split': 2,\n",
       " 'decisiontreeclassifier__min_weight_fraction_leaf': 0.0,\n",
       " 'decisiontreeclassifier__random_state': 0,\n",
       " 'decisiontreeclassifier__splitter': 'best',\n",
       " 'pipeline-2__memory': None,\n",
       " 'pipeline-2__steps': [('sc', StandardScaler()),\n",
       "  ['clf', KNeighborsClassifier(n_neighbors=1)]],\n",
       " 'pipeline-2__verbose': False,\n",
       " 'pipeline-2__sc': StandardScaler(),\n",
       " 'pipeline-2__clf': KNeighborsClassifier(n_neighbors=1),\n",
       " 'pipeline-2__sc__copy': True,\n",
       " 'pipeline-2__sc__with_mean': True,\n",
       " 'pipeline-2__sc__with_std': True,\n",
       " 'pipeline-2__clf__algorithm': 'auto',\n",
       " 'pipeline-2__clf__leaf_size': 30,\n",
       " 'pipeline-2__clf__metric': 'minkowski',\n",
       " 'pipeline-2__clf__metric_params': None,\n",
       " 'pipeline-2__clf__n_jobs': None,\n",
       " 'pipeline-2__clf__n_neighbors': 1,\n",
       " 'pipeline-2__clf__p': 2,\n",
       " 'pipeline-2__clf__weights': 'uniform'}"
      ]
     },
     "execution_count": 10,
     "metadata": {},
     "output_type": "execute_result"
    }
   ],
   "source": [
    "mv_clf.get_params()"
   ]
  },
  {
   "cell_type": "markdown",
   "id": "2e1dae66-5b2d-4b24-979a-7d60c256eda1",
   "metadata": {},
   "source": [
    "Tuning the inverse regularization parameter, ```C```, of the logistic regression classifier and the decision tree depth via grid search."
   ]
  },
  {
   "cell_type": "code",
   "execution_count": 11,
   "id": "a9f40e98-3e5f-46ee-9c75-3a59502dcef8",
   "metadata": {},
   "outputs": [
    {
     "name": "stdout",
     "output_type": "stream",
     "text": [
      "0.983 +/- 0.05 {'decisiontreeclassifier__max_depth': 1, 'pipeline-1__clf__C': 0.001}\n",
      "0.983 +/- 0.05 {'decisiontreeclassifier__max_depth': 1, 'pipeline-1__clf__C': 0.1}\n",
      "0.967 +/- 0.10 {'decisiontreeclassifier__max_depth': 1, 'pipeline-1__clf__C': 100.0}\n",
      "0.983 +/- 0.05 {'decisiontreeclassifier__max_depth': 2, 'pipeline-1__clf__C': 0.001}\n",
      "0.983 +/- 0.05 {'decisiontreeclassifier__max_depth': 2, 'pipeline-1__clf__C': 0.1}\n",
      "0.967 +/- 0.10 {'decisiontreeclassifier__max_depth': 2, 'pipeline-1__clf__C': 100.0}\n"
     ]
    }
   ],
   "source": [
    "from sklearn.model_selection import GridSearchCV\n",
    "\n",
    "\n",
    "params = {'decisiontreeclassifier__max_depth': [1, 2],\n",
    "          'pipeline-1__clf__C': [0.001, 0.1, 100.0]}\n",
    "\n",
    "grid = GridSearchCV(estimator=mv_clf,\n",
    "                    param_grid=params,\n",
    "                    cv=10,\n",
    "                    scoring='roc_auc')\n",
    "grid.fit(X_train, y_train)\n",
    "\n",
    "for r, _ in enumerate(grid.cv_results_['mean_test_score']):\n",
    "    mean_score = grid.cv_results_['mean_test_score'][r]\n",
    "    std_dev = grid.cv_results_['std_test_score'][r]\n",
    "    params = grid.cv_results_['params'][r]\n",
    "    print(f'{mean_score:.3f} +/- {std_dev:.2f} {params}')"
   ]
  },
  {
   "cell_type": "code",
   "execution_count": 12,
   "id": "b08154b9-41ad-40d0-b5ab-83b62abbbbee",
   "metadata": {},
   "outputs": [
    {
     "name": "stdout",
     "output_type": "stream",
     "text": [
      "Best parameters: {'decisiontreeclassifier__max_depth': 1, 'pipeline-1__clf__C': 0.001}\n",
      "ROC AUC: 0.98\n"
     ]
    }
   ],
   "source": [
    "print(f'Best parameters: {grid.best_params_}')\n",
    "print(f'ROC AUC: {grid.best_score_:.2f}')"
   ]
  },
  {
   "cell_type": "code",
   "execution_count": 13,
   "id": "8af7586b-24e2-45d3-a57f-d64782a38a56",
   "metadata": {},
   "outputs": [
    {
     "data": {
      "text/plain": [
       "[Pipeline(steps=[('sc', StandardScaler()),\n",
       "                 ['clf', LogisticRegression(C=0.001, random_state=1)]]),\n",
       " DecisionTreeClassifier(criterion='entropy', max_depth=1, random_state=0),\n",
       " Pipeline(steps=[('sc', StandardScaler()),\n",
       "                 ['clf', KNeighborsClassifier(n_neighbors=1)]])]"
      ]
     },
     "execution_count": 13,
     "metadata": {},
     "output_type": "execute_result"
    }
   ],
   "source": [
    "grid.best_estimator_.classifiers"
   ]
  },
  {
   "cell_type": "code",
   "execution_count": 14,
   "id": "21111bdc-8381-476d-94fc-78679cdf449a",
   "metadata": {},
   "outputs": [],
   "source": [
    "mv_clf = grid.best_estimator_"
   ]
  },
  {
   "cell_type": "code",
   "execution_count": 15,
   "id": "5aa00632-6f4b-43ea-9b75-4103ffd402e9",
   "metadata": {},
   "outputs": [
    {
     "data": {
      "text/html": [
       "<style>#sk-container-id-1 {color: black;background-color: white;}#sk-container-id-1 pre{padding: 0;}#sk-container-id-1 div.sk-toggleable {background-color: white;}#sk-container-id-1 label.sk-toggleable__label {cursor: pointer;display: block;width: 100%;margin-bottom: 0;padding: 0.3em;box-sizing: border-box;text-align: center;}#sk-container-id-1 label.sk-toggleable__label-arrow:before {content: \"▸\";float: left;margin-right: 0.25em;color: #696969;}#sk-container-id-1 label.sk-toggleable__label-arrow:hover:before {color: black;}#sk-container-id-1 div.sk-estimator:hover label.sk-toggleable__label-arrow:before {color: black;}#sk-container-id-1 div.sk-toggleable__content {max-height: 0;max-width: 0;overflow: hidden;text-align: left;background-color: #f0f8ff;}#sk-container-id-1 div.sk-toggleable__content pre {margin: 0.2em;color: black;border-radius: 0.25em;background-color: #f0f8ff;}#sk-container-id-1 input.sk-toggleable__control:checked~div.sk-toggleable__content {max-height: 200px;max-width: 100%;overflow: auto;}#sk-container-id-1 input.sk-toggleable__control:checked~label.sk-toggleable__label-arrow:before {content: \"▾\";}#sk-container-id-1 div.sk-estimator input.sk-toggleable__control:checked~label.sk-toggleable__label {background-color: #d4ebff;}#sk-container-id-1 div.sk-label input.sk-toggleable__control:checked~label.sk-toggleable__label {background-color: #d4ebff;}#sk-container-id-1 input.sk-hidden--visually {border: 0;clip: rect(1px 1px 1px 1px);clip: rect(1px, 1px, 1px, 1px);height: 1px;margin: -1px;overflow: hidden;padding: 0;position: absolute;width: 1px;}#sk-container-id-1 div.sk-estimator {font-family: monospace;background-color: #f0f8ff;border: 1px dotted black;border-radius: 0.25em;box-sizing: border-box;margin-bottom: 0.5em;}#sk-container-id-1 div.sk-estimator:hover {background-color: #d4ebff;}#sk-container-id-1 div.sk-parallel-item::after {content: \"\";width: 100%;border-bottom: 1px solid gray;flex-grow: 1;}#sk-container-id-1 div.sk-label:hover label.sk-toggleable__label {background-color: #d4ebff;}#sk-container-id-1 div.sk-serial::before {content: \"\";position: absolute;border-left: 1px solid gray;box-sizing: border-box;top: 0;bottom: 0;left: 50%;z-index: 0;}#sk-container-id-1 div.sk-serial {display: flex;flex-direction: column;align-items: center;background-color: white;padding-right: 0.2em;padding-left: 0.2em;position: relative;}#sk-container-id-1 div.sk-item {position: relative;z-index: 1;}#sk-container-id-1 div.sk-parallel {display: flex;align-items: stretch;justify-content: center;background-color: white;position: relative;}#sk-container-id-1 div.sk-item::before, #sk-container-id-1 div.sk-parallel-item::before {content: \"\";position: absolute;border-left: 1px solid gray;box-sizing: border-box;top: 0;bottom: 0;left: 50%;z-index: -1;}#sk-container-id-1 div.sk-parallel-item {display: flex;flex-direction: column;z-index: 1;position: relative;background-color: white;}#sk-container-id-1 div.sk-parallel-item:first-child::after {align-self: flex-end;width: 50%;}#sk-container-id-1 div.sk-parallel-item:last-child::after {align-self: flex-start;width: 50%;}#sk-container-id-1 div.sk-parallel-item:only-child::after {width: 0;}#sk-container-id-1 div.sk-dashed-wrapped {border: 1px dashed gray;margin: 0 0.4em 0.5em 0.4em;box-sizing: border-box;padding-bottom: 0.4em;background-color: white;}#sk-container-id-1 div.sk-label label {font-family: monospace;font-weight: bold;display: inline-block;line-height: 1.2em;}#sk-container-id-1 div.sk-label-container {text-align: center;}#sk-container-id-1 div.sk-container {/* jupyter's `normalize.less` sets `[hidden] { display: none; }` but bootstrap.min.css set `[hidden] { display: none !important; }` so we also need the `!important` here to be able to override the default hidden behavior on the sphinx rendered scikit-learn.org. See: https://github.com/scikit-learn/scikit-learn/issues/21755 */display: inline-block !important;position: relative;}#sk-container-id-1 div.sk-text-repr-fallback {display: none;}</style><div id=\"sk-container-id-1\" class=\"sk-top-container\"><div class=\"sk-text-repr-fallback\"><pre>MajorityVoteClassifier(classifiers=[Pipeline(steps=[(&#x27;sc&#x27;, StandardScaler()),\n",
       "                                                    (&#x27;clf&#x27;,\n",
       "                                                     LogisticRegression(C=0.001,\n",
       "                                                                        random_state=1))]),\n",
       "                                    DecisionTreeClassifier(criterion=&#x27;entropy&#x27;,\n",
       "                                                           max_depth=1,\n",
       "                                                           random_state=0),\n",
       "                                    Pipeline(steps=[(&#x27;sc&#x27;, StandardScaler()),\n",
       "                                                    (&#x27;clf&#x27;,\n",
       "                                                     KNeighborsClassifier(n_neighbors=1))])])</pre><b>In a Jupyter environment, please rerun this cell to show the HTML representation or trust the notebook. <br />On GitHub, the HTML representation is unable to render, please try loading this page with nbviewer.org.</b></div><div class=\"sk-container\" hidden><div class=\"sk-item\"><div class=\"sk-estimator sk-toggleable\"><input class=\"sk-toggleable__control sk-hidden--visually\" id=\"sk-estimator-id-1\" type=\"checkbox\" checked><label for=\"sk-estimator-id-1\" class=\"sk-toggleable__label sk-toggleable__label-arrow\">MajorityVoteClassifier</label><div class=\"sk-toggleable__content\"><pre>MajorityVoteClassifier(classifiers=[Pipeline(steps=[(&#x27;sc&#x27;, StandardScaler()),\n",
       "                                                    (&#x27;clf&#x27;,\n",
       "                                                     LogisticRegression(C=0.001,\n",
       "                                                                        random_state=1))]),\n",
       "                                    DecisionTreeClassifier(criterion=&#x27;entropy&#x27;,\n",
       "                                                           max_depth=1,\n",
       "                                                           random_state=0),\n",
       "                                    Pipeline(steps=[(&#x27;sc&#x27;, StandardScaler()),\n",
       "                                                    (&#x27;clf&#x27;,\n",
       "                                                     KNeighborsClassifier(n_neighbors=1))])])</pre></div></div></div></div></div>"
      ],
      "text/plain": [
       "MajorityVoteClassifier(classifiers=[Pipeline(steps=[('sc', StandardScaler()),\n",
       "                                                    ('clf',\n",
       "                                                     LogisticRegression(C=0.001,\n",
       "                                                                        random_state=1))]),\n",
       "                                    DecisionTreeClassifier(criterion='entropy',\n",
       "                                                           max_depth=1,\n",
       "                                                           random_state=0),\n",
       "                                    Pipeline(steps=[('sc', StandardScaler()),\n",
       "                                                    ('clf',\n",
       "                                                     KNeighborsClassifier(n_neighbors=1))])])"
      ]
     },
     "execution_count": 15,
     "metadata": {},
     "output_type": "execute_result"
    }
   ],
   "source": [
    "mv_clf.set_params(**grid.best_estimator_.get_params())"
   ]
  },
  {
   "cell_type": "code",
   "execution_count": 16,
   "id": "43090662-aac3-4430-8ed8-ca65fc2d30cc",
   "metadata": {},
   "outputs": [
    {
     "data": {
      "text/html": [
       "<style>#sk-container-id-2 {color: black;background-color: white;}#sk-container-id-2 pre{padding: 0;}#sk-container-id-2 div.sk-toggleable {background-color: white;}#sk-container-id-2 label.sk-toggleable__label {cursor: pointer;display: block;width: 100%;margin-bottom: 0;padding: 0.3em;box-sizing: border-box;text-align: center;}#sk-container-id-2 label.sk-toggleable__label-arrow:before {content: \"▸\";float: left;margin-right: 0.25em;color: #696969;}#sk-container-id-2 label.sk-toggleable__label-arrow:hover:before {color: black;}#sk-container-id-2 div.sk-estimator:hover label.sk-toggleable__label-arrow:before {color: black;}#sk-container-id-2 div.sk-toggleable__content {max-height: 0;max-width: 0;overflow: hidden;text-align: left;background-color: #f0f8ff;}#sk-container-id-2 div.sk-toggleable__content pre {margin: 0.2em;color: black;border-radius: 0.25em;background-color: #f0f8ff;}#sk-container-id-2 input.sk-toggleable__control:checked~div.sk-toggleable__content {max-height: 200px;max-width: 100%;overflow: auto;}#sk-container-id-2 input.sk-toggleable__control:checked~label.sk-toggleable__label-arrow:before {content: \"▾\";}#sk-container-id-2 div.sk-estimator input.sk-toggleable__control:checked~label.sk-toggleable__label {background-color: #d4ebff;}#sk-container-id-2 div.sk-label input.sk-toggleable__control:checked~label.sk-toggleable__label {background-color: #d4ebff;}#sk-container-id-2 input.sk-hidden--visually {border: 0;clip: rect(1px 1px 1px 1px);clip: rect(1px, 1px, 1px, 1px);height: 1px;margin: -1px;overflow: hidden;padding: 0;position: absolute;width: 1px;}#sk-container-id-2 div.sk-estimator {font-family: monospace;background-color: #f0f8ff;border: 1px dotted black;border-radius: 0.25em;box-sizing: border-box;margin-bottom: 0.5em;}#sk-container-id-2 div.sk-estimator:hover {background-color: #d4ebff;}#sk-container-id-2 div.sk-parallel-item::after {content: \"\";width: 100%;border-bottom: 1px solid gray;flex-grow: 1;}#sk-container-id-2 div.sk-label:hover label.sk-toggleable__label {background-color: #d4ebff;}#sk-container-id-2 div.sk-serial::before {content: \"\";position: absolute;border-left: 1px solid gray;box-sizing: border-box;top: 0;bottom: 0;left: 50%;z-index: 0;}#sk-container-id-2 div.sk-serial {display: flex;flex-direction: column;align-items: center;background-color: white;padding-right: 0.2em;padding-left: 0.2em;position: relative;}#sk-container-id-2 div.sk-item {position: relative;z-index: 1;}#sk-container-id-2 div.sk-parallel {display: flex;align-items: stretch;justify-content: center;background-color: white;position: relative;}#sk-container-id-2 div.sk-item::before, #sk-container-id-2 div.sk-parallel-item::before {content: \"\";position: absolute;border-left: 1px solid gray;box-sizing: border-box;top: 0;bottom: 0;left: 50%;z-index: -1;}#sk-container-id-2 div.sk-parallel-item {display: flex;flex-direction: column;z-index: 1;position: relative;background-color: white;}#sk-container-id-2 div.sk-parallel-item:first-child::after {align-self: flex-end;width: 50%;}#sk-container-id-2 div.sk-parallel-item:last-child::after {align-self: flex-start;width: 50%;}#sk-container-id-2 div.sk-parallel-item:only-child::after {width: 0;}#sk-container-id-2 div.sk-dashed-wrapped {border: 1px dashed gray;margin: 0 0.4em 0.5em 0.4em;box-sizing: border-box;padding-bottom: 0.4em;background-color: white;}#sk-container-id-2 div.sk-label label {font-family: monospace;font-weight: bold;display: inline-block;line-height: 1.2em;}#sk-container-id-2 div.sk-label-container {text-align: center;}#sk-container-id-2 div.sk-container {/* jupyter's `normalize.less` sets `[hidden] { display: none; }` but bootstrap.min.css set `[hidden] { display: none !important; }` so we also need the `!important` here to be able to override the default hidden behavior on the sphinx rendered scikit-learn.org. See: https://github.com/scikit-learn/scikit-learn/issues/21755 */display: inline-block !important;position: relative;}#sk-container-id-2 div.sk-text-repr-fallback {display: none;}</style><div id=\"sk-container-id-2\" class=\"sk-top-container\"><div class=\"sk-text-repr-fallback\"><pre>MajorityVoteClassifier(classifiers=[Pipeline(steps=[(&#x27;sc&#x27;, StandardScaler()),\n",
       "                                                    (&#x27;clf&#x27;,\n",
       "                                                     LogisticRegression(C=0.001,\n",
       "                                                                        random_state=1))]),\n",
       "                                    DecisionTreeClassifier(criterion=&#x27;entropy&#x27;,\n",
       "                                                           max_depth=1,\n",
       "                                                           random_state=0),\n",
       "                                    Pipeline(steps=[(&#x27;sc&#x27;, StandardScaler()),\n",
       "                                                    (&#x27;clf&#x27;,\n",
       "                                                     KNeighborsClassifier(n_neighbors=1))])])</pre><b>In a Jupyter environment, please rerun this cell to show the HTML representation or trust the notebook. <br />On GitHub, the HTML representation is unable to render, please try loading this page with nbviewer.org.</b></div><div class=\"sk-container\" hidden><div class=\"sk-item\"><div class=\"sk-estimator sk-toggleable\"><input class=\"sk-toggleable__control sk-hidden--visually\" id=\"sk-estimator-id-2\" type=\"checkbox\" checked><label for=\"sk-estimator-id-2\" class=\"sk-toggleable__label sk-toggleable__label-arrow\">MajorityVoteClassifier</label><div class=\"sk-toggleable__content\"><pre>MajorityVoteClassifier(classifiers=[Pipeline(steps=[(&#x27;sc&#x27;, StandardScaler()),\n",
       "                                                    (&#x27;clf&#x27;,\n",
       "                                                     LogisticRegression(C=0.001,\n",
       "                                                                        random_state=1))]),\n",
       "                                    DecisionTreeClassifier(criterion=&#x27;entropy&#x27;,\n",
       "                                                           max_depth=1,\n",
       "                                                           random_state=0),\n",
       "                                    Pipeline(steps=[(&#x27;sc&#x27;, StandardScaler()),\n",
       "                                                    (&#x27;clf&#x27;,\n",
       "                                                     KNeighborsClassifier(n_neighbors=1))])])</pre></div></div></div></div></div>"
      ],
      "text/plain": [
       "MajorityVoteClassifier(classifiers=[Pipeline(steps=[('sc', StandardScaler()),\n",
       "                                                    ('clf',\n",
       "                                                     LogisticRegression(C=0.001,\n",
       "                                                                        random_state=1))]),\n",
       "                                    DecisionTreeClassifier(criterion='entropy',\n",
       "                                                           max_depth=1,\n",
       "                                                           random_state=0),\n",
       "                                    Pipeline(steps=[('sc', StandardScaler()),\n",
       "                                                    ('clf',\n",
       "                                                     KNeighborsClassifier(n_neighbors=1))])])"
      ]
     },
     "execution_count": 16,
     "metadata": {},
     "output_type": "execute_result"
    }
   ],
   "source": [
    "mv_clf"
   ]
  },
  {
   "cell_type": "markdown",
   "id": "02d950a4-6b95-4f3c-92dc-a7ef3f29e861",
   "metadata": {
    "jp-MarkdownHeadingCollapsed": true,
    "tags": []
   },
   "source": [
    "## Bagging - *Building an ensemble of classifiers from bootstrap samples*"
   ]
  },
  {
   "cell_type": "markdown",
   "id": "3b967131-6cbc-44bb-9a73-b0125499027c",
   "metadata": {},
   "source": [
    "- ***Bagging is an ensemble learning technique that is closely related to the ```MajorityVoteClassifier```. However, instead of using the same training dataset to fit the individual classifiers in the ensemble, we draw bootstrap samples (random samples with replacement) from the initial training dataset, which is why bagging is also known as bootstrap aggregating.***\n",
    "\n",
    "<div>\n",
    "<img src=\"Images/bagging.png\" width=\"400px\"/>\n",
    "</div>\n",
    "\n",
    "\n",
    "- **Bagging Example:**\n",
    "<div>\n",
    "<img src=\"Images/bagging_ex.png\" width=\"600px\"/>\n",
    "</div>\n",
    "\n",
    "- ***Random Forests are a special case of bagging where we use random feature subsets when fitting individual decision trees.***"
   ]
  },
  {
   "cell_type": "markdown",
   "id": "b4f5ac94-f752-4e46-8618-49a773af17e8",
   "metadata": {},
   "source": [
    "### Applying bagging to classify examples in the Wine dataset"
   ]
  },
  {
   "cell_type": "code",
   "execution_count": 17,
   "id": "b30a2574-24fe-4fbc-a8a6-6a5b5b47de15",
   "metadata": {},
   "outputs": [],
   "source": [
    "import pandas as pd\n",
    "\n",
    "\n",
    "df_wine = pd.read_csv('https://archive.ics.uci.edu/ml/'\n",
    "                      'machine-learning-databases/wine/wine.data',\n",
    "                      header=None)\n",
    "\n",
    "df_wine.columns = ['Class label', 'Alcohol', 'Malic acid', 'Ash',\n",
    "                   'Alcalinity of ash', 'Magnesium', 'Total phenols',\n",
    "                   'Flavanoids', 'Nonflavanoid phenols', 'Proanthocyanins',\n",
    "                   'Color intensity', 'Hue', 'OD280/OD315 of diluted wines',\n",
    "                   'Proline']\n",
    "\n",
    "# drop 1 class\n",
    "df_wine = df_wine[df_wine['Class label'] != 1]\n",
    "\n",
    "y = df_wine['Class label'].values\n",
    "X = df_wine[['Alcohol', 'OD280/OD315 of diluted wines']].values\\\n",
    "\n",
    "# Here we are using only tow features & two class labels"
   ]
  },
  {
   "cell_type": "code",
   "execution_count": 18,
   "id": "4569fb2f-58b4-41ab-8ed8-245b9bef7182",
   "metadata": {},
   "outputs": [],
   "source": [
    "# Encoding class labels into binary format & train test split\n",
    "\n",
    "from sklearn.preprocessing import LabelEncoder\n",
    "from sklearn.model_selection import train_test_split\n",
    "\n",
    "le = LabelEncoder()\n",
    "y = le.fit_transform(y)\n",
    "\n",
    "X_train,X_test,y_train,y_test = train_test_split(X,y,test_size=0.2,\n",
    "                                                stratify=y, random_state=1)"
   ]
  },
  {
   "cell_type": "code",
   "execution_count": 19,
   "id": "b0aa8ea6-f0c0-4593-918e-4e6ea20d3e13",
   "metadata": {},
   "outputs": [],
   "source": [
    "# Here, using a unpruned Decision tree as a base classifier and creating \n",
    "# an ensemble of 500 decision trees fit on diff. bootstrap samples of \n",
    "# training data\n",
    "\n",
    "from sklearn.ensemble import BaggingClassifier\n",
    "from sklearn.tree import DecisionTreeClassifier\n",
    "\n",
    "tree = DecisionTreeClassifier(criterion='entropy', random_state=1,\n",
    "                              max_depth=None)\n",
    "\n",
    "bag = BaggingClassifier(base_estimator=tree,\n",
    "                        n_estimators=500,max_samples=1.0,\n",
    "                        max_features=1.0,bootstrap=True,\n",
    "                        bootstrap_features=False,\n",
    "                        n_jobs=1, random_state=1)"
   ]
  },
  {
   "cell_type": "code",
   "execution_count": 20,
   "id": "ae234691-8301-4889-a9fd-dee54cddec10",
   "metadata": {},
   "outputs": [
    {
     "name": "stdout",
     "output_type": "stream",
     "text": [
      "Decision tree train/test accuracies 1.000/0.833\n"
     ]
    }
   ],
   "source": [
    "from sklearn.metrics import accuracy_score\n",
    "\n",
    "tree = tree.fit(X_train,y_train)\n",
    "\n",
    "y_train_pred = tree.predict(X_train)\n",
    "y_test_pred = tree.predict(X_test)\n",
    "\n",
    "tree_train = accuracy_score(y_train, y_train_pred)\n",
    "tree_test = accuracy_score(y_test, y_test_pred)\n",
    "\n",
    "print(f'Decision tree train/test accuracies '\n",
    "      f'{tree_train:.3f}/{tree_test:.3f}')"
   ]
  },
  {
   "cell_type": "markdown",
   "id": "0b3e5186-795b-4e37-8a29-43d4c5785c4b",
   "metadata": {},
   "source": [
    "Based on the accuracy values above, the unpruned decision tree predicts all the class labels of the training examples correctly; **however, the substantially lower test accuracy indicates high variance (overfitting) of the model.**"
   ]
  },
  {
   "cell_type": "code",
   "execution_count": 21,
   "id": "c5f8d8db-8a5f-4d46-91a8-37a0e58c9cf8",
   "metadata": {},
   "outputs": [
    {
     "name": "stdout",
     "output_type": "stream",
     "text": [
      "Bagging train/test accuracies 1.000/0.917\n"
     ]
    }
   ],
   "source": [
    "bag = bag.fit(X_train, y_train)\n",
    "y_train_pred = bag.predict(X_train)\n",
    "y_test_pred = bag.predict(X_test)\n",
    "\n",
    "bag_train = accuracy_score(y_train, y_train_pred) \n",
    "bag_test = accuracy_score(y_test, y_test_pred) \n",
    "print(f'Bagging train/test accuracies '\n",
    "      f'{bag_train:.3f}/{bag_test:.3f}')"
   ]
  },
  {
   "cell_type": "markdown",
   "id": "721a6c50-8f3a-467f-9863-cc08581eaa05",
   "metadata": {},
   "source": [
    "Although the training accuracies of the decision tree and bagging classifier are similar on the training dataset (both 100%), we can see that the bagging classifier has a slightly better generalization performance, as estimated on the test dataset."
   ]
  },
  {
   "cell_type": "code",
   "execution_count": 22,
   "id": "47fb9ffe-6317-490c-8b4e-8f713cb20259",
   "metadata": {},
   "outputs": [
    {
     "data": {
      "image/png": "[encoded data removed]",
      "text/plain": [
       "<Figure size 800x300 with 2 Axes>"
      ]
     },
     "metadata": {},
     "output_type": "display_data"
    }
   ],
   "source": [
    "import numpy as np\n",
    "import matplotlib.pyplot as plt\n",
    "\n",
    "\n",
    "x_min = X_train[:, 0].min() - 1\n",
    "x_max = X_train[:, 0].max() + 1\n",
    "y_min = X_train[:, 1].min() - 1\n",
    "y_max = X_train[:, 1].max() + 1\n",
    "\n",
    "xx, yy = np.meshgrid(np.arange(x_min, x_max, 0.1),\n",
    "                     np.arange(y_min, y_max, 0.1))\n",
    "\n",
    "f, axarr = plt.subplots(nrows=1, ncols=2, \n",
    "                        sharex='col', \n",
    "                        sharey='row', \n",
    "                        figsize=(8, 3))\n",
    "\n",
    "\n",
    "for idx, clf, tt in zip([0, 1],\n",
    "                        [tree, bag],\n",
    "                        ['Decision tree', 'Bagging']):\n",
    "    clf.fit(X_train, y_train)\n",
    "\n",
    "    Z = clf.predict(np.c_[xx.ravel(), yy.ravel()])\n",
    "    Z = Z.reshape(xx.shape)\n",
    "\n",
    "    axarr[idx].contourf(xx, yy, Z, alpha=0.3)\n",
    "    axarr[idx].scatter(X_train[y_train == 0, 0],\n",
    "                       X_train[y_train == 0, 1],\n",
    "                       c='blue', marker='^')\n",
    "\n",
    "    axarr[idx].scatter(X_train[y_train == 1, 0],\n",
    "                       X_train[y_train == 1, 1],\n",
    "                       c='green', marker='o')\n",
    "\n",
    "    axarr[idx].set_title(tt)\n",
    "\n",
    "axarr[0].set_ylabel('OD280/OD315 of diluted wines', fontsize=12)\n",
    "\n",
    "plt.tight_layout()\n",
    "plt.text(0, -0.2,\n",
    "         s='Alcohol',\n",
    "         ha='center',\n",
    "         va='center',\n",
    "         fontsize=12,\n",
    "         transform=axarr[1].transAxes)\n",
    "\n",
    "\n",
    "plt.show();"
   ]
  },
  {
   "cell_type": "markdown",
   "id": "a7092f60-a05f-47eb-9f6a-b284d54105e7",
   "metadata": {},
   "source": [
    "As we can see in the above plot, the piece-wise linear decision boundary of the three-node deep decision tree looks smoother in the bagging ensemble."
   ]
  },
  {
   "cell_type": "markdown",
   "id": "5bc88852-aea2-4ed8-8741-5e3627a1e12d",
   "metadata": {},
   "source": [
    "### Imp. points on Bagging\n",
    "\n",
    "- *In practice, more complex classification tasks and a dataset’s high dimensionality can easily lead to overfitting in single decision trees, and this is where the bagging algorithm can really play to its strengths.* \n",
    "\n",
    "- ***Finally, we must note that the bagging algorithm can be an effective approach to reducing the variance of a model.*** \n",
    "\n",
    "- ***However, bagging is ineffective in reducing model bias, i.e., models that are too simple to capture the trends in the data well. This is why we want to <u>perform bagging on an ensemble of classifiers with low bias, for example, unpruned decision trees.</u>***"
   ]
  },
  {
   "cell_type": "markdown",
   "id": "b7790eb3-3046-4c11-92da-6538d411bec2",
   "metadata": {
    "tags": []
   },
   "source": [
    "## Leveraging weak learners via *adaptive boosting(AdaBoost)*"
   ]
  },
  {
   "cell_type": "markdown",
   "id": "e1c98796-5f52-42b8-b398-45835fcf1396",
   "metadata": {
    "tags": []
   },
   "source": [
    "### Boosting\n",
    "\n",
    "- In boosting, the ensemble consists of very simple base classifiers, also often referred to as **weak learners**, which often only have a slight performance advantage over random guessing—***a typical example of a weak learner is a decision tree stump***. \n",
    "\n",
    "- **The key concept behind boosting is to focus on training examples that are hard to classify, i.e., to let the weak learners subsequently learn from misclassified training examples to improve the performance of the ensemble.**"
   ]
  },
  {
   "cell_type": "markdown",
   "id": "4f755922-213b-40a1-b02b-63edabf4dda3",
   "metadata": {},
   "source": [
    "### How adaptive boosting works\n",
    "\n",
    "- **In contrast to bagging, the initial formulation of the boosting algorithm uses random subsets of training examples drawn from the training dataset without replacement.**\n",
    "\n",
    "- *The original boosting procedure is:*\n",
    "\n",
    "   1. Draw a random subset(sample) of training subset, $d_1$, without replacement from the training dataset, $D$, to train a weak learner, $C_1$.\n",
    "   \n",
    "   2. Draw a second random training subset, $d_2$, without replacement from the training dataset and add 50% of the examples that were previously misclassified to train a weak learner, $C_2$.\n",
    "   \n",
    "   3. Find the training examples, $d_3$, in the training dataset, $D$, which $C_1$ and $C_2$ disagree upon, to train a third weak learner, $C_3$.\n",
    "   \n",
    "   4. Combine the weak learners $C_1$, $C_2$, $C_3$ via majority voting.\n",
    "   \n",
    "\n",
    "- **Boosting can lead to a decrease in bias as well as variance compared to bagging models.** \n",
    "\n",
    "- **In practice, however, boosting algorithms such as AdaBoost are also known for their high variance, i.e., the tendency to overfit the training data.**\n",
    "\n",
    "------------------------------------------------------------"
   ]
  },
  {
   "cell_type": "markdown",
   "id": "d0c1deed-4730-4116-bb27-2388782e2170",
   "metadata": {},
   "source": [
    "### AdaBoost illustration step by step\n",
    "\n",
    "**In contrast to the original boosting procedure described, AdaBoost uses the complete training dataset to train the weak learners, where the training examples are reweighted in each iteration to build a strong classifier that learns from the mistakes of the previous weak learners in the ensemble.**\n",
    "\n",
    "\n",
    "<div>\n",
    "<img src=\"Images/adaBoost.png\" width=\"400px\"/>\n",
    "</div>\n",
    "\n",
    "\n",
    "We will start with subfigure 1, which represents a training dataset for binary classification where all training examples are assigned equal weights. Based on this training dataset, we train a decision stump (shown as a dashed line) that tries to classify the examples of the two classes (triangles and circles), as well as possibly minimizing the loss function (or the impurity score in the special case of decision tree ensembles). \n",
    "\n",
    "\n",
    "For the next round (subfigure 2), we assign a larger weight to the two previously misclassified examples (circles). Furthermore, we lower the weight of the correctly classified examples. The next decision stump will now be more focused on the training examples that have the largest weights—the training examples that are supposedly hard to classify. \n",
    "\n",
    "The weak learner shown in subfigure 2 misclassifies three different examples from the circle class, which are then assigned a larger weight, as shown in subfigure 3. \n",
    "\n",
    "\n",
    "Assuming that our AdaBoost ensemble only consists of three rounds of boosting, we then combine the three weak learners trained on different reweighted training subsets by a weighted majority vote, as shown in subfigure 4."
   ]
  },
  {
   "cell_type": "markdown",
   "id": "af1fe0cb-3b07-4db6-aff0-dfaff9180208",
   "metadata": {},
   "source": [
    "### AdaBoost Pseudo Code\n",
    "\n",
    "For clarity, we will denote element-wise multiplication by the cross symbol (×) and the dot-product between two vectors by a dot symbol (⋅):\n",
    "\n",
    "\n",
    "1. Set the weight vector, **w**, to uniform weights, where $\\sum_iw_i = 1$.\n",
    "   \n",
    "2. For $j$ in $m$ boosting rounds,:\n",
    "\n",
    "   a. Train a weighted weak learner: $C_j = train(\\textbf{X, y, w})$.\n",
    "     \n",
    "   b. Predict the class labels: $\\hat{y} = predict(C_j, X)$.\n",
    "   \n",
    "   c. Compute the weighted error rate: $\\epsilon = \\textbf{w} \\cdot (\\hat{y} \\neq y)$.\n",
    "   \n",
    "   d. Compute the coefficient: $\\alpha_j = 0.5\\frac{1 - \\epsilon}{\\epsilon}$.\n",
    "   \n",
    "   e. Update the weights: $w := w \\times exp(-\\alpha_j \\times \\hat{y} \\times y)$.\n",
    "   \n",
    "   f. Normalize the weights to sum to 1: $w := \\frac{w}{\\sum_iw_i}$.\n",
    "   \n",
    "3. Compute the final prediction: $\\hat{y} = \\left(\\sum_{j=1}^{m}\\left(\\alpha_j \\times predict(C_j, X)\\right) > 0\\right)$.\n",
    "\n",
    "\n",
    "***Note that the expression $(\\hat{y}\\neq y)$ in step 2c refers to a binary vector consisting of $1s$ and $0s$, where a $1$ is assigned if the prediction is incorrect and $0$ is assigned otherwise.***\n",
    "\n",
    "\n",
    "\n",
    "<div>\n",
    "<img src=\"Images/adaBoost_ex.png\" width=\"400px\"/>\n",
    "</div>\n",
    "\n",
    "A simple adaboost example based on above pseudo code for a 1D-dataset assuming splitting criterion $x \\leq 3.0$."
   ]
  },
  {
   "cell_type": "code",
   "execution_count": 23,
   "id": "280fa548-3c13-44c4-b8b4-c1bf2dff32ed",
   "metadata": {},
   "outputs": [
    {
     "name": "stdout",
     "output_type": "stream",
     "text": [
      "[0.1 0.1 0.1 0.1 0.1 0.1 0.1 0.1 0.1 0.1]\n",
      "0.3\n"
     ]
    }
   ],
   "source": [
    "y = np.array([1, 1, 1, -1, -1, -1,  1,  1,  1, -1])\n",
    "yhat = np.array([1, 1, 1, -1, -1, -1, -1, -1, -1, -1])\n",
    "correct = (y == yhat)\n",
    "weights = np.full(10, 0.1)\n",
    "print(weights)\n",
    "\n",
    "epsilon = np.mean(~correct)\n",
    "print(epsilon)"
   ]
  },
  {
   "cell_type": "code",
   "execution_count": 24,
   "id": "9122b027-ac2f-4af7-b6f8-d0f2b7cfe0e0",
   "metadata": {},
   "outputs": [
    {
     "name": "stdout",
     "output_type": "stream",
     "text": [
      "0.42364893019360184\n"
     ]
    }
   ],
   "source": [
    "alpha_j = 0.5 * np.log((1-epsilon) / epsilon)\n",
    "print(alpha_j)"
   ]
  },
  {
   "cell_type": "code",
   "execution_count": 25,
   "id": "5ba3ac30-b876-4cb0-a045-799a9bfe8390",
   "metadata": {},
   "outputs": [
    {
     "name": "stdout",
     "output_type": "stream",
     "text": [
      "0.06546536707079771\n"
     ]
    }
   ],
   "source": [
    "update_if_correct = 0.1 * np.exp(-alpha_j * 1 * 1)\n",
    "print(update_if_correct)"
   ]
  },
  {
   "cell_type": "code",
   "execution_count": 26,
   "id": "7ce26a50-c774-4585-b153-63a70d680e09",
   "metadata": {},
   "outputs": [
    {
     "name": "stdout",
     "output_type": "stream",
     "text": [
      "0.1527525231651947\n"
     ]
    }
   ],
   "source": [
    "update_if_wrong_1 = 0.1 * np.exp(-alpha_j * 1 * -1)\n",
    "print(update_if_wrong_1)"
   ]
  },
  {
   "cell_type": "code",
   "execution_count": 27,
   "id": "b3eaccdc-30e9-444c-9b8c-3ce3f2223ad9",
   "metadata": {},
   "outputs": [
    {
     "name": "stdout",
     "output_type": "stream",
     "text": [
      "0.1527525231651947\n"
     ]
    }
   ],
   "source": [
    "update_if_wrong_2 = 0.1 * np.exp(-alpha_j * -1 * 1)\n",
    "print(update_if_wrong_2)"
   ]
  },
  {
   "cell_type": "code",
   "execution_count": 28,
   "id": "3de30ca1-a6a4-4936-9e00-73b438e6493e",
   "metadata": {},
   "outputs": [
    {
     "name": "stdout",
     "output_type": "stream",
     "text": [
      "[0.06546537 0.06546537 0.06546537 0.06546537 0.06546537 0.06546537\n",
      " 0.15275252 0.15275252 0.15275252 0.06546537]\n"
     ]
    }
   ],
   "source": [
    "weights = np.where(correct == 1, update_if_correct, update_if_wrong_1)\n",
    "print(weights)"
   ]
  },
  {
   "cell_type": "code",
   "execution_count": 29,
   "id": "7f1e4f20-d2fb-4ca9-884e-6c0135b40a90",
   "metadata": {},
   "outputs": [
    {
     "name": "stdout",
     "output_type": "stream",
     "text": [
      "[0.07142857 0.07142857 0.07142857 0.07142857 0.07142857 0.07142857\n",
      " 0.16666667 0.16666667 0.16666667 0.07142857]\n"
     ]
    }
   ],
   "source": [
    "normalized_weights = weights / np.sum(weights)\n",
    "print(normalized_weights)"
   ]
  },
  {
   "cell_type": "markdown",
   "id": "f7a202d8-399a-4fd5-8e61-a161b9ce6fa0",
   "metadata": {},
   "source": [
    "### AdaBoost in scikit-learn"
   ]
  },
  {
   "cell_type": "code",
   "execution_count": 30,
   "id": "366098e4-18c5-4cd4-8fae-0bcc9fddd5aa",
   "metadata": {},
   "outputs": [],
   "source": [
    "from sklearn.ensemble import AdaBoostClassifier\n",
    "\n",
    "tree = DecisionTreeClassifier(criterion='entropy', max_depth=1,\n",
    "                             random_state=1)\n",
    "\n",
    "ada = AdaBoostClassifier(base_estimator=tree, n_estimators=500,\n",
    "                         learning_rate=0.1, random_state=1)"
   ]
  },
  {
   "cell_type": "code",
   "execution_count": 31,
   "id": "136f3064-ef07-4963-92f3-fdf857922fcc",
   "metadata": {},
   "outputs": [
    {
     "name": "stdout",
     "output_type": "stream",
     "text": [
      "Decision tree train/test accuracies 0.916/0.875\n",
      "AdaBoost train/test accuracies 1.000/0.917\n"
     ]
    }
   ],
   "source": [
    "tree = tree.fit(X_train, y_train)\n",
    "\n",
    "y_train_pred = tree.predict(X_train)\n",
    "y_test_pred = tree.predict(X_test)\n",
    "\n",
    "tree_train = accuracy_score(y_train, y_train_pred)\n",
    "tree_test = accuracy_score(y_test, y_test_pred)\n",
    "\n",
    "print(f'Decision tree train/test accuracies '\n",
    "      f'{tree_train:.3f}/{tree_test:.3f}')\n",
    "\n",
    "\n",
    "ada = ada.fit(X_train, y_train)\n",
    "\n",
    "y_train_pred = ada.predict(X_train)\n",
    "y_test_pred = ada.predict(X_test)\n",
    "\n",
    "ada_train = accuracy_score(y_train, y_train_pred) \n",
    "ada_test = accuracy_score(y_test, y_test_pred) \n",
    "\n",
    "print(f'AdaBoost train/test accuracies '\n",
    "      f'{ada_train:.3f}/{ada_test:.3f}')"
   ]
  },
  {
   "cell_type": "markdown",
   "id": "7b0b45c1-043f-43be-8f55-3070691c0f4d",
   "metadata": {},
   "source": [
    "As you can see, the decision tree stump seems to underfit the training data in contrast to the unpruned decision tree that we saw in the previous section.\n",
    "\n",
    "\n",
    "Here, you can see that the AdaBoost model predicts all class labels of the training dataset correctly and also shows a slightly improved test dataset performance compared to the decision tree stump. ***However, you can also see that we introduced additional variance with our attempt to reduce the model bias—a greater gap between training and test performance.***"
   ]
  },
  {
   "cell_type": "code",
   "execution_count": 32,
   "id": "f96b6942-13ef-49a1-82a7-749308ecc046",
   "metadata": {},
   "outputs": [
    {
     "data": {
      "image/png": "[encoded data removed]",
      "text/plain": [
       "<Figure size 800x300 with 2 Axes>"
      ]
     },
     "metadata": {},
     "output_type": "display_data"
    }
   ],
   "source": [
    "x_min, x_max = X_train[:, 0].min() - 1, X_train[:, 0].max() + 1\n",
    "y_min, y_max = X_train[:, 1].min() - 1, X_train[:, 1].max() + 1\n",
    "xx, yy = np.meshgrid(np.arange(x_min, x_max, 0.1),\n",
    "                     np.arange(y_min, y_max, 0.1))\n",
    "\n",
    "f, axarr = plt.subplots(1, 2, sharex='col', sharey='row', figsize=(8, 3))\n",
    "\n",
    "\n",
    "for idx, clf, tt in zip([0, 1],\n",
    "                        [tree, ada],\n",
    "                        ['Decision tree', 'AdaBoost']):\n",
    "    clf.fit(X_train, y_train)\n",
    "\n",
    "    Z = clf.predict(np.c_[xx.ravel(), yy.ravel()])\n",
    "    Z = Z.reshape(xx.shape)\n",
    "\n",
    "    axarr[idx].contourf(xx, yy, Z, alpha=0.3)\n",
    "    axarr[idx].scatter(X_train[y_train == 0, 0],\n",
    "                       X_train[y_train == 0, 1],\n",
    "                       c='blue', marker='^')\n",
    "    axarr[idx].scatter(X_train[y_train == 1, 0],\n",
    "                       X_train[y_train == 1, 1],\n",
    "                       c='green', marker='o')\n",
    "    axarr[idx].set_title(tt)\n",
    "\n",
    "axarr[0].set_ylabel('OD280/OD315 of diluted wines', fontsize=12)\n",
    "\n",
    "plt.tight_layout()\n",
    "plt.text(0, -0.2,\n",
    "         s='Alcohol',\n",
    "         ha='center',\n",
    "         va='center',\n",
    "         fontsize=12,\n",
    "         transform=axarr[1].transAxes)\n",
    "\n",
    "\n",
    "plt.show();"
   ]
  },
  {
   "cell_type": "markdown",
   "id": "d94ae2ee-c002-4946-bf6e-eff677a41c53",
   "metadata": {},
   "source": [
    "By looking at the decision regions, you can see that the decision boundary of the AdaBoost model is substantially more complex than the decision boundary of the decision stump. In addition, note that the AdaBoost model separates the feature space very similarly to the bagging classifier that we trained in the previous section.\n",
    "\n",
    "\n",
    "*As concluding remarks about ensemble techniques, it is worth noting that ensemble learning increases the computational complexity compared to individual classifiers. In practice, we need to think carefully about whether we want to pay the price of increased computational costs for an often relatively modest improvement in predictive performance.*"
   ]
  },
  {
   "cell_type": "markdown",
   "id": "2f7df371-1907-4533-ae37-3d4291743f70",
   "metadata": {
    "jp-MarkdownHeadingCollapsed": true,
    "tags": []
   },
   "source": [
    "## *Gradient boosting* - training an ensemble based on loss gradients"
   ]
  },
  {
   "cell_type": "markdown",
   "id": "13ed2f6c-e39d-4f23-9f5e-4c2f90897bb3",
   "metadata": {},
   "source": [
    "### Comparing AdaBoost with gradient boosting\n",
    "\n",
    "- Fundamentally, gradient boosting is very similar to AdaBoost. \n",
    "\n",
    "\n",
    "- AdaBoost trains decision tree stumps based on errors of the previous decision tree stump. In particular, the errors are used to compute sample weights in each round as well as for computing a classifier weight for each decision tree stump when combining the individual stumps into an ensemble. We stop training once a maximum number of iterations (decision tree stumps) is reached. \n",
    "\n",
    "\n",
    "- Like AdaBoost, gradient boosting fits decision trees in an iterative fashion using prediction errors. However, gradient boosting trees are usually deeper than decision tree stumps and have typically a maximum depth of 3 to 6 (or a maximum number of 8 to 64 leaf nodes). \n",
    "\n",
    "-  Also, in contrast to AdaBoost, gradient boosting does not use the prediction errors for assigning sample weights; they are used directly to form the target variable for fitting the next tree. \n",
    "\n",
    "- Moreover, instead of having an individual weighting term for each tree, like in AdaBoost, gradient boosting uses a **global learning rate** that is the same for each tree."
   ]
  },
  {
   "cell_type": "markdown",
   "id": "6b62c06b-e465-4417-b297-c0e58547812a",
   "metadata": {},
   "source": [
    "### Outlining the general gradient boosting algorithm\n",
    "\n",
    "***In essence, gradient boosting builds a series of trees, where each tree is fit on the error—the difference between the label and the predicted value—of the previous tree. In each round, the tree ensemble improves as we are nudging each tree more in the right direction via small updates. These updates are based on a loss gradient, which is how gradient boosting got its name.***\n",
    "\n",
    "\n",
    "The general algo. behind gradient boosting:\n",
    "\n",
    "1. **Initialize a model to return a constant prediction value.** For this, we use a decision tree root node; that is, a decision tree with a single leaf node. Denote the value returned by the tree as $\\hat{y}$, and calculate below, by minimizing a differentiable **loss function** $L$:\n",
    "$$F_0(x) = \\arg \\min_{\\hat{y}} \\sum_{i=1}^{n}L(y_i, \\hat{y})$$ $n$ = # of training examples.\n",
    "\n",
    "2. For each tree $m = 1, \\cdots, M$, where $M$ is total num. of user-specified trees:\n",
    "    \n",
    "    **a.)** Compute the diff. b/w a predicted value $F(x_i) = \\hat{y}_i$ and the class label $y_i$. This value is sometimes called the ***pseudo-response*** or ***pseudo-residual***, which is negative gradient of the loss function w.r.to the predicted values: \n",
    "    \n",
    "    $$r_{im} = -\\left[\\frac{\\partial L(y_i, F(x_i))}{\\partial F(x_i)}\\right]_{F(x) = F_{m-1}(x)} \\text{for } i = 1, \\cdots, n$$\n",
    "    \n",
    "    Note that, $F(x)$ is the prediction of the previous tree. $F_{m-1}(x)$. So, in the first round this refers to the constant value from the tree(single leaf node) from step 1.\n",
    "    \n",
    "    \n",
    "    \n",
    "    \n",
    "    **b.)** Fit the tree to the pseudo-residual $r_{mi}$. We use the notation $R_{jm}$ to denote the $j = 1 \\cdots J_m$ leaf nodes of the resulting tree in iteration $m$.\n",
    "    \n",
    "    \n",
    "    **c.)** For each leaf node $R_{jm}$, compute\n",
    "    \n",
    "    $$\\gamma_{jm} = \\arg \\min_{\\gamma} \\sum_{x_i \\in R_{jm}} L(y_i, F_{m-1}(x_i) + \\gamma)$$ \n",
    "    \n",
    "    $\\gamma_{jm}$ is computed by minimizing the loss function. At this point, we can already note that leaf nodes $R_{jm}$ may contain more than one training example, hence the summation.\n",
    "    \n",
    "    \n",
    "    **d.)** Update the model by adding the o/p values $\\gamma_m$ to the previous tree:\n",
    "    \n",
    "    $$F_m(x) = F_{m-1}(x) + \\eta\\gamma_{m}$$\n",
    "    \n",
    "    We scale predicted value, $\\gamma_m$ using the learning rate $\\eta$, which is a small value b/w $[0.01,1]$ instead of directly adding the full predicted value. In other words, we update the model incrementally by taking small steps, which helps avoid overfitting."
   ]
  },
  {
   "cell_type": "markdown",
   "id": "038838e0-2bb3-494d-8443-668d262f4725",
   "metadata": {},
   "source": [
    "### Explaining the gradient boosting algorithm for classification\n",
    "\n",
    "Logistic loss function: \n",
    "\n",
    "$$L_i = -y_i \\log p_i + (1-y_i)\\log (1-p_i)$$\n",
    "\n",
    "\n",
    "Log odds: \n",
    "\n",
    "$$\\hat{y} = \\log (odds) = \\log \\frac{p}{1-p}$$\n",
    "\n",
    "\n",
    "Re-writing the logistic function w.r.t log(odds): \n",
    "\n",
    "$$L_i = \\log (1 + e^{\\hat{y}_i}) - y_i\\hat{y}_i$$\n",
    "\n",
    "\n",
    "Partial derivative of loss function w.r.t logg(odds), $\\hat{y}$:\n",
    "\n",
    "$$\\frac{\\partial L_i}{\\partial \\hat{y}_i} = \\frac{e^{\\hat{y}_i}}{1 + e^{\\hat{y}_i}} - y_i = p_i - y_i$$\n",
    "\n",
    "\n",
    "---------------------------------------------------------------------------\n",
    "\n",
    "\n",
    "Now, applying gradient boosting steps:\n",
    "\n",
    "\n",
    "1. Create a root node that minimizes the logistic loss. It turns out that the loss is minimized if the root node returns the log(odds), $\\hat{y}$.\n",
    "\n",
    "\n",
    "2. For each tree $m = 1, \\cdots, M$, where $M$ is total num. of user-specified trees:\n",
    "\n",
    "    **a.)** We convert the log(odds) into a probability as: $$p = \\frac{1}{1 + e^{-\\hat{y}}}$$ Then, compute pseudo-residual which is the negative partial derivative of the loss with respect to the log(odds), which turns out to be the difference between the class label and the predicted probability: $$-\\frac{\\partial L_i}{\\partial \\hat{y}_i} = y_i - p_i$$\n",
    "    \n",
    "    \n",
    "    **b.)** Fit a new tree to the pseudo-residual.\n",
    "    \n",
    "    \n",
    "    **c.)** For each leaf node $R_{jm}$, compute a value that minimizes the logistic loss function. This includes a summarization step for dealing with leaf nodes that contain multiple training examples:\n",
    "    \n",
    "    $$\\gamma_{jm} = \\arg \\min_{\\gamma} \\sum_{x_i \\in R_{jm}} L(y_i, F_{m-1}(x_i) + \\gamma)\\\\\n",
    "    \\\\\n",
    "    \\\\\n",
    "    = \\log\\left(1 + e^{\\hat{y}_i + \\gamma}\\right) - y_i(\\hat{y}_i + \\gamma)$$ \n",
    "    \n",
    "    Skipping over intermediate mathematical details, this results in the following:\n",
    "    \n",
    "    $$\\gamma_{jm} = \\frac{\\sum_i y_i - p_i}{\\sum_i p_i(i - p_i)}$$\n",
    "    \n",
    "    Note that the summation here is only over the examples at the node corresponding to the leaf node $R_{jm}$ and not the complete training set.\n",
    "    \n",
    "    \n",
    "    **d.)** Update the model by adding the gamma value from step-2c with learning rate $\\eta$: \n",
    "    \n",
    "    $$F_m(x) = F_{m-1}(x) + \\eta\\gamma_m$$\n",
    "    \n",
    "    \n",
    "----------------------------------------------------------------\n",
    "\n",
    "#### Outputting log(odds) vs probabilities \n",
    "\n",
    "Why do the trees return log(odds) values and not probabilities? This is because we cannot just add up probability values and arrive at a meaningful result. (So, technically speaking, gradient boosting for classification uses regression trees.)\n",
    "\n",
    "---------------------------------------------------------------------\n",
    "\n",
    "In this section, we adopted the general gradient boosting algorithm and specified it for binary classification, for instance, by replacing the generic loss function with the logistic loss and the predicted values with the log(odds).\n",
    "\n",
    "-----------------------------------------------------------------------------"
   ]
  },
  {
   "cell_type": "markdown",
   "id": "363b1102-cee0-446e-935b-729b423cc5a9",
   "metadata": {},
   "source": [
    "### Illustrating gradient boosting for classification\n",
    "\n",
    "- Toy Dataset\n",
    "<div>\n",
    "<img src=\"Images/gb_1.png\" width=\"300px\"/>\n",
    "</div>\n",
    "\n",
    "\n",
    "- Start with **step 1**, constructing the root node and computing the log(odds), and **step 2a**, converting the log(odds) into class-membership probabilities and computing the pseudo-residuals.<br>the odds can be computed as the # of successes divided by the # of failures. Here, we regard label 1 as success and label 0 as failure, so the odds are computed as: odds = 2/1:\n",
    "<div>\n",
    "<img src=\"Images/gb_2.png\"/>\n",
    "</div>\n",
    "\n",
    "\n",
    "- Next, in **step 2b**, we fit a new tree on the pseudo-residuals $r$. Then, in **step 2c**, we compute the output values, $\\gamma$, for this tree:\n",
    "<div>\n",
    "<img src=\"Images/gb_3.png\" width=\"500px\"/>\n",
    "</div>\n",
    "(Note that we artificially limit the tree to have only two leaf nodes, which helps illustrate what happens if a leaf node contains more than one example.)\n",
    "\n",
    "\n",
    "- Then, in the final **step 2d**, we update the previous model and the current model. Assuming a learning rate of $\\eta = 0.1$, the resulting prediction for the first training example:\n",
    "<div>\n",
    "<img src=\"Images/gb_4.png\" width=\"500px\"/>\n",
    "</div>\n",
    "\n",
    "\n",
    "- Now that we have completed **steps 2a to 2d** of the first round, m = 1, we can proceed to execute **steps 2a to 2d** for the second round, m = 2. In the second round, we use the log(odds) returned by the updated model, for example, $F_1(x_1) = 0.839$, as input to **step 2A**. The new values we obtain in the second round are:\n",
    "<div>\n",
    "<img src=\"Images/gb_5.png\" width=\"500px\"/>\n",
    "</div>\n",
    "\n",
    "We can already see that the predicted probabilities are higher for the positive class and lower for the negative class. Consequently, the residuals are getting smaller, too. Note that the process of steps 2a to 2d is repeated until we have fit M trees or the residuals are smaller than a user-specified threshold value. Then, once the gradient boosting algorithm has completed, we can use it to predict the class labels by thresholding the probability values of the final model, FM(x) at 0.5, like logistic regression in Chapter 3. However, in contrast to logistic regression, gradient boosting consists of multiple trees and produces nonlinear decision boundaries."
   ]
  },
  {
   "cell_type": "markdown",
   "id": "6a547190-7282-4e57-b539-44f43f17d0af",
   "metadata": {
    "jp-MarkdownHeadingCollapsed": true,
    "tags": []
   },
   "source": [
    "## Using XG Boost\n",
    "\n",
    "Algorithms using Gradient Boosting\n",
    "- ```XGBoost``` $\\rightarrow \\text{Extreme Gradient Boosting}$\n",
    "- ```LightGBM```\n",
    "- ```CatBoost```"
   ]
  },
  {
   "cell_type": "code",
   "execution_count": 34,
   "id": "efe5a388-45e8-460e-b2a8-535f76360d49",
   "metadata": {},
   "outputs": [],
   "source": [
    "# !pip install xgboost"
   ]
  },
  {
   "cell_type": "code",
   "execution_count": 38,
   "id": "1dfc81a7-70d6-4fd4-b2b5-26be10fdd683",
   "metadata": {},
   "outputs": [
    {
     "name": "stdout",
     "output_type": "stream",
     "text": [
      "XGboost train/test accuracies 0.968/0.917\n"
     ]
    }
   ],
   "source": [
    "import xgboost as xgb\n",
    "\n",
    "model = xgb.XGBClassifier(n_estimators=1000, learning_rate=0.01,\n",
    "                          max_depth=4, random_state=1,\n",
    "                          use_label_encoder=False)\n",
    "\n",
    "gbm = model.fit(X_train, y_train)\n",
    "\n",
    "y_train_pred = gbm.predict(X_train)\n",
    "y_test_pred = gbm.predict(X_test)\n",
    "\n",
    "gbm_train = accuracy_score(y_train, y_train_pred) \n",
    "gbm_test = accuracy_score(y_test, y_test_pred) \n",
    "\n",
    "print(f'XGboost train/test accuracies '\n",
    "      f'{gbm_train:.3f}/{gbm_test:.3f}')"
   ]
  },
  {
   "cell_type": "markdown",
   "id": "6cb57e39-af94-41b0-bc76-fac40abc1e0f",
   "metadata": {},
   "source": [
    "Here, we fit the gradient boosting classifier with 1,000 trees (rounds) and a learning rate of 0.01. Typically, a learning rate between 0.01 and 0.1 is recommended. However, remember that the learning rate is used for scaling the predictions from the individual rounds. So, intuitively, the lower the learning rate, the more estimators are required to achieve accurate predictions.\n",
    "\n",
    "\n",
    "Next, we have the ```max_depth``` for the individual decision trees, which we set to 4. Since we are still boosting weak learners, a value between 2 and 6 is reasonable, but larger values may also work well depending on the dataset. \n",
    "\n",
    "\n",
    "Finally, ```use_label_encoder=False``` disables a warning message which informs users that XGBoost is not converting labels by default anymore, and it expects users to provide labels in an integer format starting with label 0."
   ]
  },
  {
   "cell_type": "markdown",
   "id": "c8b7a4bb-9f97-4113-a60d-2d9ed0fae474",
   "metadata": {},
   "source": [
    "## Summary\n",
    "\n",
    "\n",
    "- Ensemble methods combine different classification models to cancel out their individual weaknesses, which often results in stable and well-performing models.\n",
    "\n",
    "- At the beginning of this chapter, we implemented ```MajorityVoteClassifier``` in Python, which allows us to combine different algorithms for classification. \n",
    "\n",
    "- **We then looked at bagging, a useful technique for reducing the variance of a model by drawing random bootstrap samples from the training dataset and combining the individually trained classifiers via majority vote.**\n",
    "\n",
    "- **Lastly, we learned about boosting in the form of AdaBoost and gradient boosting, which are algorithms based on training weak learners that subsequently learn from mistakes.**"
   ]
  },
  {
   "cell_type": "markdown",
   "id": "6e17967d-8e19-41a7-98dc-f0808ffa1efd",
   "metadata": {},
   "source": [
    "***Reference:***\n",
    "\n",
    "***Raschka, Sebastian; Liu, Yuxi (Hayden); Mirjalili, Vahid. Machine Learning with PyTorch and Scikit-Learn: Develop machine learning and deep learning models with Python. Packt Publishing.*** "
   ]
  }
 ],
 "metadata": {
  "kernelspec": {
   "display_name": "Python 3 (ipykernel)",
   "language": "python",
   "name": "python3"
  },
  "language_info": {
   "codemirror_mode": {
    "name": "ipython",
    "version": 3
   },
   "file_extension": ".py",
   "mimetype": "text/x-python",
   "name": "python",
   "nbconvert_exporter": "python",
   "pygments_lexer": "ipython3",
   "version": "3.9.16"
  },
  "widgets": {
   "application/vnd.jupyter.widget-state+json": {
    "state": {},
    "version_major": 2,
    "version_minor": 0
   }
  }
 },
 "nbformat": 4,
 "nbformat_minor": 5
}
